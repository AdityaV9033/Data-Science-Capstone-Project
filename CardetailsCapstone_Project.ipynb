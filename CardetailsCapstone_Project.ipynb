{
 "cells": [
  {
   "cell_type": "code",
   "execution_count": 11,
   "id": "c8b330af-fe5b-47e3-926e-d45827b12f03",
   "metadata": {
    "tags": []
   },
   "outputs": [
    {
     "name": "stderr",
     "output_type": "stream",
     "text": [
      "C:\\Users\\Aditya\\anaconda3\\lib\\site-packages\\scipy\\__init__.py:138: UserWarning: A NumPy version >=1.16.5 and <1.23.0 is required for this version of SciPy (detected version 1.24.4)\n",
      "  warnings.warn(f\"A NumPy version >={np_minversion} and <{np_maxversion} is required for this version of \"\n"
     ]
    }
   ],
   "source": [
    "import sklearn\n",
    "import streamlit\n",
    "import pandas as pd\n",
    "# pandas is aliased as pd\n",
    "import numpy as np\n",
    "# numpy is aliased as np\n",
    "import matplotlib.pyplot as plt\n",
    "# pyplot s aliased as plt\n",
    "import seaborn as sns\n",
    "# seaborn is aliased as sns\n",
    "import warnings\n",
    "warnings.filterwarnings('ignore')\n",
    "# Ignore all warnings\n",
    "import pandas as pd\n",
    "import numpy as np\n",
    "import matplotlib.pyplot as plt\n",
    "import seaborn as sns\n",
    "from sklearn.model_selection import train_test_split\n",
    "from sklearn.preprocessing import OneHotEncoder, StandardScaler\n",
    "from sklearn.compose import ColumnTransformer\n",
    "from sklearn.ensemble import RandomForestRegressor , AdaBoostClassifier\n",
    "from sklearn.tree import DecisionTreeClassifier\n",
    "from sklearn.metrics import mean_squared_error, r2_score, accuracy_score, precision_score, recall_score, f1_score, roc_auc_score\n",
    "from sklearn.linear_model import LinearRegression , LogisticRegression \n",
    "from sklearn.metrics import mean_squared_error,r2_score, accuracy_score, precision_score, recall_score, f1_score, roc_auc_score\n",
    "from joblib import dump, load\n",
    "import pickle"
   ]
  },
  {
   "cell_type": "code",
   "execution_count": 207,
   "id": "deaef5b2-1de8-474a-9073-1563e1cf80b2",
   "metadata": {},
   "outputs": [
    {
     "name": "stdout",
     "output_type": "stream",
     "text": [
      "Name: scikit-learn\n",
      "Version: 1.3.2\n",
      "Summary: A set of python modules for machine learning and data mining\n",
      "Home-page: http://scikit-learn.org\n",
      "Author: None\n",
      "Author-email: None\n",
      "License: new BSD\n",
      "Location: c:\\users\\aditya\\anaconda3\\lib\\site-packages\n",
      "Requires: threadpoolctl, numpy, joblib, scipy\n",
      "Required-by: imbalanced-learn\n",
      "Note: you may need to restart the kernel to use updated packages.\n"
     ]
    }
   ],
   "source": [
    "pip show scikit_learn"
   ]
  },
  {
   "cell_type": "code",
   "execution_count": 6,
   "id": "ee8bb5bf-e5a4-4df8-8d25-99bada181c3b",
   "metadata": {},
   "outputs": [
    {
     "name": "stdout",
     "output_type": "stream",
     "text": [
      "Note: you may need to restart the kernel to use updated packages.\n"
     ]
    },
    {
     "name": "stderr",
     "output_type": "stream",
     "text": [
      "WARNING: Package(s) not found: pickle\n"
     ]
    }
   ],
   "source": []
  },
  {
   "cell_type": "code",
   "execution_count": 12,
   "id": "dd59f194-0091-4bf2-a38f-d035891295d3",
   "metadata": {},
   "outputs": [
    {
     "name": "stdout",
     "output_type": "stream",
     "text": [
      "Requirement already satisfied: streamlit in c:\\users\\aditya\\anaconda3\\lib\\site-packages (1.29.0)\n",
      "Requirement already satisfied: tenacity<9,>=8.1.0 in c:\\users\\aditya\\anaconda3\\lib\\site-packages (from streamlit) (8.2.3)\n",
      "Requirement already satisfied: tzlocal<6,>=1.1 in c:\\users\\aditya\\anaconda3\\lib\\site-packages (from streamlit) (5.2)\n",
      "Requirement already satisfied: pydeck<1,>=0.8.0b4 in c:\\users\\aditya\\anaconda3\\lib\\site-packages (from streamlit) (0.8.1b0)\n",
      "Requirement already satisfied: cachetools<6,>=4.0 in c:\\users\\aditya\\anaconda3\\lib\\site-packages (from streamlit) (5.3.2)\n",
      "Requirement already satisfied: importlib-metadata<7,>=1.4 in c:\\users\\aditya\\anaconda3\\lib\\site-packages (from streamlit) (3.10.0)\n",
      "Requirement already satisfied: python-dateutil<3,>=2.7.3 in c:\\users\\aditya\\anaconda3\\lib\\site-packages (from streamlit) (2.8.2)\n",
      "Requirement already satisfied: pandas<3,>=1.3.0 in c:\\users\\aditya\\anaconda3\\lib\\site-packages (from streamlit) (2.0.3)\n",
      "Requirement already satisfied: tornado<7,>=6.0.3 in c:\\users\\aditya\\anaconda3\\lib\\site-packages (from streamlit) (6.1)\n",
      "Requirement already satisfied: click<9,>=7.0 in c:\\users\\aditya\\anaconda3\\lib\\site-packages (from streamlit) (7.1.2)\n",
      "Requirement already satisfied: toml<2,>=0.10.1 in c:\\users\\aditya\\anaconda3\\lib\\site-packages (from streamlit) (0.10.2)\n",
      "Requirement already satisfied: pyarrow>=6.0 in c:\\users\\aditya\\anaconda3\\lib\\site-packages (from streamlit) (14.0.1)\n",
      "Requirement already satisfied: numpy<2,>=1.19.3 in c:\\users\\aditya\\anaconda3\\lib\\site-packages (from streamlit) (1.24.4)\n",
      "Requirement already satisfied: altair<6,>=4.0 in c:\\users\\aditya\\anaconda3\\lib\\site-packages (from streamlit) (5.2.0)\n",
      "Requirement already satisfied: pillow<11,>=7.1.0 in c:\\users\\aditya\\anaconda3\\lib\\site-packages (from streamlit) (8.2.0)\n",
      "Requirement already satisfied: validators<1,>=0.2 in c:\\users\\aditya\\anaconda3\\lib\\site-packages (from streamlit) (0.22.0)\n",
      "Requirement already satisfied: packaging<24,>=16.8 in c:\\users\\aditya\\anaconda3\\lib\\site-packages (from streamlit) (20.9)\n",
      "Requirement already satisfied: requests<3,>=2.27 in c:\\users\\aditya\\anaconda3\\lib\\site-packages (from streamlit) (2.31.0)\n",
      "Requirement already satisfied: protobuf<5,>=3.20 in c:\\users\\aditya\\anaconda3\\lib\\site-packages (from streamlit) (4.25.1)\n",
      "Requirement already satisfied: rich<14,>=10.14.0 in c:\\users\\aditya\\anaconda3\\lib\\site-packages (from streamlit) (13.7.0)\n",
      "Requirement already satisfied: watchdog>=2.1.5 in c:\\users\\aditya\\anaconda3\\lib\\site-packages (from streamlit) (3.0.0)\n",
      "Requirement already satisfied: typing-extensions<5,>=4.3.0 in c:\\users\\aditya\\anaconda3\\lib\\site-packages (from streamlit) (4.8.0)\n",
      "Requirement already satisfied: blinker<2,>=1.0.0 in c:\\users\\aditya\\anaconda3\\lib\\site-packages (from streamlit) (1.7.0)\n",
      "Requirement already satisfied: gitpython!=3.1.19,<4,>=3.0.7 in c:\\users\\aditya\\anaconda3\\lib\\site-packages (from streamlit) (3.1.40)\n",
      "Requirement already satisfied: jinja2 in c:\\users\\aditya\\anaconda3\\lib\\site-packages (from altair<6,>=4.0->streamlit) (2.11.3)\n",
      "Requirement already satisfied: jsonschema>=3.0 in c:\\users\\aditya\\anaconda3\\lib\\site-packages (from altair<6,>=4.0->streamlit) (3.2.0)\n",
      "Requirement already satisfied: toolz in c:\\users\\aditya\\anaconda3\\lib\\site-packages (from altair<6,>=4.0->streamlit) (0.11.1)\n",
      "Requirement already satisfied: gitdb<5,>=4.0.1 in c:\\users\\aditya\\anaconda3\\lib\\site-packages (from gitpython!=3.1.19,<4,>=3.0.7->streamlit) (4.0.11)\n",
      "Requirement already satisfied: smmap<6,>=3.0.1 in c:\\users\\aditya\\anaconda3\\lib\\site-packages (from gitdb<5,>=4.0.1->gitpython!=3.1.19,<4,>=3.0.7->streamlit) (5.0.1)\n",
      "Requirement already satisfied: zipp>=0.5 in c:\\users\\aditya\\anaconda3\\lib\\site-packages (from importlib-metadata<7,>=1.4->streamlit) (3.4.1)\n",
      "Requirement already satisfied: attrs>=17.4.0 in c:\\users\\aditya\\anaconda3\\lib\\site-packages (from jsonschema>=3.0->altair<6,>=4.0->streamlit) (20.3.0)\n",
      "Requirement already satisfied: setuptools in c:\\users\\aditya\\anaconda3\\lib\\site-packages (from jsonschema>=3.0->altair<6,>=4.0->streamlit) (52.0.0.post20210125)\n",
      "Requirement already satisfied: six>=1.11.0 in c:\\users\\aditya\\anaconda3\\lib\\site-packages (from jsonschema>=3.0->altair<6,>=4.0->streamlit) (1.15.0)\n",
      "Requirement already satisfied: pyrsistent>=0.14.0 in c:\\users\\aditya\\anaconda3\\lib\\site-packages (from jsonschema>=3.0->altair<6,>=4.0->streamlit) (0.17.3)\n",
      "Requirement already satisfied: pyparsing>=2.0.2 in c:\\users\\aditya\\anaconda3\\lib\\site-packages (from packaging<24,>=16.8->streamlit) (2.4.7)\n",
      "Requirement already satisfied: tzdata>=2022.1 in c:\\users\\aditya\\anaconda3\\lib\\site-packages (from pandas<3,>=1.3.0->streamlit) (2023.3)\n",
      "Requirement already satisfied: pytz>=2020.1 in c:\\users\\aditya\\anaconda3\\lib\\site-packages (from pandas<3,>=1.3.0->streamlit) (2021.1)\n",
      "Requirement already satisfied: MarkupSafe>=0.23 in c:\\users\\aditya\\anaconda3\\lib\\site-packages (from jinja2->altair<6,>=4.0->streamlit) (1.1.1)\n",
      "Requirement already satisfied: certifi>=2017.4.17 in c:\\users\\aditya\\anaconda3\\lib\\site-packages (from requests<3,>=2.27->streamlit) (2020.12.5)\n",
      "Requirement already satisfied: urllib3<3,>=1.21.1 in c:\\users\\aditya\\anaconda3\\lib\\site-packages (from requests<3,>=2.27->streamlit) (1.26.4)\n",
      "Requirement already satisfied: charset-normalizer<4,>=2 in c:\\users\\aditya\\anaconda3\\lib\\site-packages (from requests<3,>=2.27->streamlit) (3.3.2)\n",
      "Requirement already satisfied: idna<4,>=2.5 in c:\\users\\aditya\\anaconda3\\lib\\site-packages (from requests<3,>=2.27->streamlit) (2.10)\n",
      "Requirement already satisfied: pygments<3.0.0,>=2.13.0 in c:\\users\\aditya\\anaconda3\\lib\\site-packages (from rich<14,>=10.14.0->streamlit) (2.17.2)\n",
      "Requirement already satisfied: markdown-it-py>=2.2.0 in c:\\users\\aditya\\anaconda3\\lib\\site-packages (from rich<14,>=10.14.0->streamlit) (3.0.0)\n",
      "Requirement already satisfied: mdurl~=0.1 in c:\\users\\aditya\\anaconda3\\lib\\site-packages (from markdown-it-py>=2.2.0->rich<14,>=10.14.0->streamlit) (0.1.2)\n",
      "Requirement already satisfied: backports.zoneinfo in c:\\users\\aditya\\anaconda3\\lib\\site-packages (from tzlocal<6,>=1.1->streamlit) (0.2.1)\n"
     ]
    }
   ],
   "source": [
    "!pip install streamlit"
   ]
  },
  {
   "cell_type": "code",
   "execution_count": 13,
   "id": "854c43ea-1a05-440e-9a1b-60726b510257",
   "metadata": {},
   "outputs": [
    {
     "name": "stdout",
     "output_type": "stream",
     "text": [
      "Name: streamlit\n",
      "Version: 1.29.0\n",
      "Summary: A faster way to build and share data apps\n",
      "Home-page: https://streamlit.io\n",
      "Author: Snowflake Inc\n",
      "Author-email: hello@streamlit.io\n",
      "License: Apache License 2.0\n",
      "Location: c:\\users\\aditya\\anaconda3\\lib\\site-packages\n",
      "Requires: importlib-metadata, pyarrow, tzlocal, toml, packaging, tornado, python-dateutil, blinker, watchdog, rich, gitpython, pandas, tenacity, cachetools, pydeck, altair, validators, click, numpy, typing-extensions, protobuf, pillow, requests\n",
      "Required-by: \n",
      "Note: you may need to restart the kernel to use updated packages.\n"
     ]
    }
   ],
   "source": [
    "pip show streamlit"
   ]
  },
  {
   "cell_type": "code",
   "execution_count": 110,
   "id": "913bf1f7-60ed-4d80-bb47-cdfed12cd98a",
   "metadata": {},
   "outputs": [
    {
     "data": {
      "text/html": [
       "<div>\n",
       "<style scoped>\n",
       "    .dataframe tbody tr th:only-of-type {\n",
       "        vertical-align: middle;\n",
       "    }\n",
       "\n",
       "    .dataframe tbody tr th {\n",
       "        vertical-align: top;\n",
       "    }\n",
       "\n",
       "    .dataframe thead th {\n",
       "        text-align: right;\n",
       "    }\n",
       "</style>\n",
       "<table border=\"1\" class=\"dataframe\">\n",
       "  <thead>\n",
       "    <tr style=\"text-align: right;\">\n",
       "      <th></th>\n",
       "      <th>name</th>\n",
       "      <th>year</th>\n",
       "      <th>selling_price</th>\n",
       "      <th>km_driven</th>\n",
       "      <th>fuel</th>\n",
       "      <th>seller_type</th>\n",
       "      <th>transmission</th>\n",
       "      <th>owner</th>\n",
       "    </tr>\n",
       "  </thead>\n",
       "  <tbody>\n",
       "    <tr>\n",
       "      <th>0</th>\n",
       "      <td>Maruti 800 AC</td>\n",
       "      <td>2007</td>\n",
       "      <td>60000</td>\n",
       "      <td>70000</td>\n",
       "      <td>Petrol</td>\n",
       "      <td>Individual</td>\n",
       "      <td>Manual</td>\n",
       "      <td>First Owner</td>\n",
       "    </tr>\n",
       "    <tr>\n",
       "      <th>1</th>\n",
       "      <td>Maruti Wagon R LXI Minor</td>\n",
       "      <td>2007</td>\n",
       "      <td>135000</td>\n",
       "      <td>50000</td>\n",
       "      <td>Petrol</td>\n",
       "      <td>Individual</td>\n",
       "      <td>Manual</td>\n",
       "      <td>First Owner</td>\n",
       "    </tr>\n",
       "    <tr>\n",
       "      <th>2</th>\n",
       "      <td>Hyundai Verna 1.6 SX</td>\n",
       "      <td>2012</td>\n",
       "      <td>600000</td>\n",
       "      <td>100000</td>\n",
       "      <td>Diesel</td>\n",
       "      <td>Individual</td>\n",
       "      <td>Manual</td>\n",
       "      <td>First Owner</td>\n",
       "    </tr>\n",
       "    <tr>\n",
       "      <th>3</th>\n",
       "      <td>Datsun RediGO T Option</td>\n",
       "      <td>2017</td>\n",
       "      <td>250000</td>\n",
       "      <td>46000</td>\n",
       "      <td>Petrol</td>\n",
       "      <td>Individual</td>\n",
       "      <td>Manual</td>\n",
       "      <td>First Owner</td>\n",
       "    </tr>\n",
       "    <tr>\n",
       "      <th>4</th>\n",
       "      <td>Honda Amaze VX i-DTEC</td>\n",
       "      <td>2014</td>\n",
       "      <td>450000</td>\n",
       "      <td>141000</td>\n",
       "      <td>Diesel</td>\n",
       "      <td>Individual</td>\n",
       "      <td>Manual</td>\n",
       "      <td>Second Owner</td>\n",
       "    </tr>\n",
       "  </tbody>\n",
       "</table>\n",
       "</div>"
      ],
      "text/plain": [
       "                       name  year  selling_price  km_driven    fuel  \\\n",
       "0             Maruti 800 AC  2007          60000      70000  Petrol   \n",
       "1  Maruti Wagon R LXI Minor  2007         135000      50000  Petrol   \n",
       "2      Hyundai Verna 1.6 SX  2012         600000     100000  Diesel   \n",
       "3    Datsun RediGO T Option  2017         250000      46000  Petrol   \n",
       "4     Honda Amaze VX i-DTEC  2014         450000     141000  Diesel   \n",
       "\n",
       "  seller_type transmission         owner  \n",
       "0  Individual       Manual   First Owner  \n",
       "1  Individual       Manual   First Owner  \n",
       "2  Individual       Manual   First Owner  \n",
       "3  Individual       Manual   First Owner  \n",
       "4  Individual       Manual  Second Owner  "
      ]
     },
     "execution_count": 110,
     "metadata": {},
     "output_type": "execute_result"
    }
   ],
   "source": [
    "# Load the dataset\n",
    "df = pd.read_csv('CAR DETAILS.csv')\n",
    "df.head()"
   ]
  },
  {
   "cell_type": "code",
   "execution_count": 111,
   "id": "50e2850b-cb74-4fac-a3ed-abee74ae1559",
   "metadata": {},
   "outputs": [
    {
     "data": {
      "text/plain": [
       "(4340, 8)"
      ]
     },
     "execution_count": 111,
     "metadata": {},
     "output_type": "execute_result"
    }
   ],
   "source": [
    "df.shape"
   ]
  },
  {
   "cell_type": "code",
   "execution_count": 112,
   "id": "be2a2e9d-41b2-4f44-a281-4e289919ee2f",
   "metadata": {},
   "outputs": [
    {
     "data": {
      "text/plain": [
       "763"
      ]
     },
     "execution_count": 112,
     "metadata": {},
     "output_type": "execute_result"
    }
   ],
   "source": [
    "df.duplicated().sum()"
   ]
  },
  {
   "cell_type": "code",
   "execution_count": 113,
   "id": "6a0f364a-2607-4c0d-8808-8dae841f2fdf",
   "metadata": {},
   "outputs": [],
   "source": [
    "df.drop_duplicates(inplace=True)"
   ]
  },
  {
   "cell_type": "code",
   "execution_count": 114,
   "id": "0402b4d0-fc31-4176-9362-a16ca5868a05",
   "metadata": {},
   "outputs": [
    {
     "data": {
      "text/plain": [
       "(3577, 8)"
      ]
     },
     "execution_count": 114,
     "metadata": {},
     "output_type": "execute_result"
    }
   ],
   "source": [
    "df.shape"
   ]
  },
  {
   "cell_type": "code",
   "execution_count": 115,
   "id": "78be9502-6041-4ccc-a4e6-18648e298810",
   "metadata": {},
   "outputs": [
    {
     "data": {
      "text/plain": [
       "name             0\n",
       "year             0\n",
       "selling_price    0\n",
       "km_driven        0\n",
       "fuel             0\n",
       "seller_type      0\n",
       "transmission     0\n",
       "owner            0\n",
       "dtype: int64"
      ]
     },
     "execution_count": 115,
     "metadata": {},
     "output_type": "execute_result"
    }
   ],
   "source": [
    "df.isnull().sum()"
   ]
  },
  {
   "cell_type": "code",
   "execution_count": 116,
   "id": "a8d6bf6d-5fea-4189-bd14-c247165df188",
   "metadata": {},
   "outputs": [
    {
     "data": {
      "text/plain": [
       "name             object\n",
       "year              int64\n",
       "selling_price     int64\n",
       "km_driven         int64\n",
       "fuel             object\n",
       "seller_type      object\n",
       "transmission     object\n",
       "owner            object\n",
       "dtype: object"
      ]
     },
     "execution_count": 116,
     "metadata": {},
     "output_type": "execute_result"
    }
   ],
   "source": [
    "df.dtypes"
   ]
  },
  {
   "cell_type": "code",
   "execution_count": 117,
   "id": "4dbdb3b4-291f-44dc-87ad-d119e8fbc553",
   "metadata": {},
   "outputs": [
    {
     "data": {
      "text/plain": [
       "Index(['name', 'year', 'selling_price', 'km_driven', 'fuel', 'seller_type',\n",
       "       'transmission', 'owner'],\n",
       "      dtype='object')"
      ]
     },
     "execution_count": 117,
     "metadata": {},
     "output_type": "execute_result"
    }
   ],
   "source": [
    "df.columns"
   ]
  },
  {
   "cell_type": "code",
   "execution_count": 118,
   "id": "10d46b18-f781-4021-b94d-37f0b9db3f24",
   "metadata": {},
   "outputs": [],
   "source": [
    "#df['year'].value_counts()  # 1992 to 2020"
   ]
  },
  {
   "cell_type": "code",
   "execution_count": 119,
   "id": "12ad0f46-bc9e-4d90-9fe0-d1da5eaaed7c",
   "metadata": {},
   "outputs": [
    {
     "data": {
      "text/plain": [
       "owner\n",
       "First Owner             2218\n",
       "Second Owner             978\n",
       "Third Owner              289\n",
       "Fourth & Above Owner      75\n",
       "Test Drive Car            17\n",
       "Name: count, dtype: int64"
      ]
     },
     "execution_count": 119,
     "metadata": {},
     "output_type": "execute_result"
    }
   ],
   "source": [
    "df['owner'].value_counts()"
   ]
  },
  {
   "cell_type": "code",
   "execution_count": 120,
   "id": "9feb1afd-7a75-46f9-93e7-cf8a3675ef8d",
   "metadata": {},
   "outputs": [
    {
     "data": {
      "text/plain": [
       "transmission\n",
       "Manual       3265\n",
       "Automatic     312\n",
       "Name: count, dtype: int64"
      ]
     },
     "execution_count": 120,
     "metadata": {},
     "output_type": "execute_result"
    }
   ],
   "source": [
    "df['transmission'].value_counts()"
   ]
  },
  {
   "cell_type": "code",
   "execution_count": 121,
   "id": "c691bea6-a5ae-4001-bf67-216937121000",
   "metadata": {},
   "outputs": [
    {
     "data": {
      "text/plain": [
       "seller_type\n",
       "Individual          2832\n",
       "Dealer               712\n",
       "Trustmark Dealer      33\n",
       "Name: count, dtype: int64"
      ]
     },
     "execution_count": 121,
     "metadata": {},
     "output_type": "execute_result"
    }
   ],
   "source": [
    "df['seller_type'].value_counts()     "
   ]
  },
  {
   "cell_type": "code",
   "execution_count": 122,
   "id": "3b1a614b-804c-4e2d-963d-e783a62499e7",
   "metadata": {},
   "outputs": [
    {
     "data": {
      "text/plain": [
       "fuel\n",
       "Diesel      1800\n",
       "Petrol      1717\n",
       "CNG           37\n",
       "LPG           22\n",
       "Electric       1\n",
       "Name: count, dtype: int64"
      ]
     },
     "execution_count": 122,
     "metadata": {},
     "output_type": "execute_result"
    }
   ],
   "source": [
    "df['fuel'].value_counts()     "
   ]
  },
  {
   "cell_type": "code",
   "execution_count": 123,
   "id": "05ef3bdb-894d-4582-a7ef-41ffb0018ce3",
   "metadata": {},
   "outputs": [
    {
     "data": {
      "text/plain": [
       "km_driven\n",
       "70000     210\n",
       "80000     199\n",
       "120000    199\n",
       "60000     194\n",
       "50000     181\n",
       "         ... \n",
       "35925       1\n",
       "40771       1\n",
       "30500       1\n",
       "55800       1\n",
       "112198      1\n",
       "Name: count, Length: 770, dtype: int64"
      ]
     },
     "execution_count": 123,
     "metadata": {},
     "output_type": "execute_result"
    }
   ],
   "source": [
    "df['km_driven'].value_counts()     "
   ]
  },
  {
   "cell_type": "code",
   "execution_count": 124,
   "id": "f03a037f-599e-42c8-a0b9-d8b6a9201b36",
   "metadata": {},
   "outputs": [
    {
     "data": {
      "text/plain": [
       "selling_price\n",
       "300000     137\n",
       "250000     112\n",
       "350000     106\n",
       "500000      87\n",
       "600000      84\n",
       "          ... \n",
       "2595000      1\n",
       "368000       1\n",
       "248000       1\n",
       "641000       1\n",
       "865000       1\n",
       "Name: count, Length: 445, dtype: int64"
      ]
     },
     "execution_count": 124,
     "metadata": {},
     "output_type": "execute_result"
    }
   ],
   "source": [
    "df['selling_price'].value_counts()     "
   ]
  },
  {
   "cell_type": "code",
   "execution_count": 125,
   "id": "c5beaf54-5baa-4c75-bad1-2b3b6a2c79dd",
   "metadata": {},
   "outputs": [
    {
     "data": {
      "text/plain": [
       "name\n",
       "Maruti Swift Dzire VDI               54\n",
       "Maruti Alto 800 LXI                  48\n",
       "Maruti Alto LXi                      42\n",
       "Maruti Alto LX                       30\n",
       "Maruti Swift VDI BSIV                28\n",
       "                                     ..\n",
       "Toyota Innova 2.5 E 8 STR             1\n",
       "Nissan Micra XL CVT                   1\n",
       "Mahindra Scorpio VLX AT 2WD BSIII     1\n",
       "Toyota Corolla AE                     1\n",
       "Hyundai i20 Magna 1.4 CRDi            1\n",
       "Name: count, Length: 1491, dtype: int64"
      ]
     },
     "execution_count": 125,
     "metadata": {},
     "output_type": "execute_result"
    }
   ],
   "source": [
    "df['name'].value_counts()     "
   ]
  },
  {
   "cell_type": "code",
   "execution_count": 126,
   "id": "26eb7e15-be5f-4281-b440-eae0ffd3ffdd",
   "metadata": {},
   "outputs": [
    {
     "name": "stdout",
     "output_type": "stream",
     "text": [
      "<class 'pandas.core.frame.DataFrame'>\n",
      "Index: 3577 entries, 0 to 4339\n",
      "Data columns (total 8 columns):\n",
      " #   Column         Non-Null Count  Dtype \n",
      "---  ------         --------------  ----- \n",
      " 0   name           3577 non-null   object\n",
      " 1   year           3577 non-null   int64 \n",
      " 2   selling_price  3577 non-null   int64 \n",
      " 3   km_driven      3577 non-null   int64 \n",
      " 4   fuel           3577 non-null   object\n",
      " 5   seller_type    3577 non-null   object\n",
      " 6   transmission   3577 non-null   object\n",
      " 7   owner          3577 non-null   object\n",
      "dtypes: int64(3), object(5)\n",
      "memory usage: 251.5+ KB\n"
     ]
    }
   ],
   "source": [
    "df.info()"
   ]
  },
  {
   "cell_type": "code",
   "execution_count": 127,
   "id": "960a6edc-fddf-4fd3-8935-f6ca6404c2ac",
   "metadata": {},
   "outputs": [
    {
     "data": {
      "text/html": [
       "<div>\n",
       "<style scoped>\n",
       "    .dataframe tbody tr th:only-of-type {\n",
       "        vertical-align: middle;\n",
       "    }\n",
       "\n",
       "    .dataframe tbody tr th {\n",
       "        vertical-align: top;\n",
       "    }\n",
       "\n",
       "    .dataframe thead th {\n",
       "        text-align: right;\n",
       "    }\n",
       "</style>\n",
       "<table border=\"1\" class=\"dataframe\">\n",
       "  <thead>\n",
       "    <tr style=\"text-align: right;\">\n",
       "      <th></th>\n",
       "      <th>year</th>\n",
       "      <th>selling_price</th>\n",
       "      <th>km_driven</th>\n",
       "    </tr>\n",
       "  </thead>\n",
       "  <tbody>\n",
       "    <tr>\n",
       "      <th>count</th>\n",
       "      <td>3577.000000</td>\n",
       "      <td>3.577000e+03</td>\n",
       "      <td>3577.000000</td>\n",
       "    </tr>\n",
       "    <tr>\n",
       "      <th>mean</th>\n",
       "      <td>2012.962538</td>\n",
       "      <td>4.739125e+05</td>\n",
       "      <td>69250.545709</td>\n",
       "    </tr>\n",
       "    <tr>\n",
       "      <th>std</th>\n",
       "      <td>4.251759</td>\n",
       "      <td>5.093018e+05</td>\n",
       "      <td>47579.940016</td>\n",
       "    </tr>\n",
       "    <tr>\n",
       "      <th>min</th>\n",
       "      <td>1992.000000</td>\n",
       "      <td>2.000000e+04</td>\n",
       "      <td>1.000000</td>\n",
       "    </tr>\n",
       "    <tr>\n",
       "      <th>25%</th>\n",
       "      <td>2010.000000</td>\n",
       "      <td>2.000000e+05</td>\n",
       "      <td>36000.000000</td>\n",
       "    </tr>\n",
       "    <tr>\n",
       "      <th>50%</th>\n",
       "      <td>2013.000000</td>\n",
       "      <td>3.500000e+05</td>\n",
       "      <td>60000.000000</td>\n",
       "    </tr>\n",
       "    <tr>\n",
       "      <th>75%</th>\n",
       "      <td>2016.000000</td>\n",
       "      <td>6.000000e+05</td>\n",
       "      <td>90000.000000</td>\n",
       "    </tr>\n",
       "    <tr>\n",
       "      <th>max</th>\n",
       "      <td>2020.000000</td>\n",
       "      <td>8.900000e+06</td>\n",
       "      <td>806599.000000</td>\n",
       "    </tr>\n",
       "  </tbody>\n",
       "</table>\n",
       "</div>"
      ],
      "text/plain": [
       "              year  selling_price      km_driven\n",
       "count  3577.000000   3.577000e+03    3577.000000\n",
       "mean   2012.962538   4.739125e+05   69250.545709\n",
       "std       4.251759   5.093018e+05   47579.940016\n",
       "min    1992.000000   2.000000e+04       1.000000\n",
       "25%    2010.000000   2.000000e+05   36000.000000\n",
       "50%    2013.000000   3.500000e+05   60000.000000\n",
       "75%    2016.000000   6.000000e+05   90000.000000\n",
       "max    2020.000000   8.900000e+06  806599.000000"
      ]
     },
     "execution_count": 127,
     "metadata": {},
     "output_type": "execute_result"
    }
   ],
   "source": [
    "#df.describe(include='all')\n",
    "df.describe()"
   ]
  },
  {
   "cell_type": "code",
   "execution_count": 128,
   "id": "9b6ee479-b498-4cd3-84a9-77151a17ebc8",
   "metadata": {},
   "outputs": [],
   "source": [
    "# Extract the first name from the 'Name' column\n",
    "df['Model_Name'] = df['name'].str.split().str.get(0)\n",
    "\n",
    "# Display the DataFrame with the new 'First Name' column"
   ]
  },
  {
   "cell_type": "code",
   "execution_count": 129,
   "id": "81e067a0-2800-4358-b739-36238530107f",
   "metadata": {},
   "outputs": [
    {
     "data": {
      "text/html": [
       "<div>\n",
       "<style scoped>\n",
       "    .dataframe tbody tr th:only-of-type {\n",
       "        vertical-align: middle;\n",
       "    }\n",
       "\n",
       "    .dataframe tbody tr th {\n",
       "        vertical-align: top;\n",
       "    }\n",
       "\n",
       "    .dataframe thead th {\n",
       "        text-align: right;\n",
       "    }\n",
       "</style>\n",
       "<table border=\"1\" class=\"dataframe\">\n",
       "  <thead>\n",
       "    <tr style=\"text-align: right;\">\n",
       "      <th></th>\n",
       "      <th>name</th>\n",
       "      <th>year</th>\n",
       "      <th>selling_price</th>\n",
       "      <th>km_driven</th>\n",
       "      <th>fuel</th>\n",
       "      <th>seller_type</th>\n",
       "      <th>transmission</th>\n",
       "      <th>owner</th>\n",
       "      <th>Model_Name</th>\n",
       "    </tr>\n",
       "  </thead>\n",
       "  <tbody>\n",
       "    <tr>\n",
       "      <th>0</th>\n",
       "      <td>Maruti 800 AC</td>\n",
       "      <td>2007</td>\n",
       "      <td>60000</td>\n",
       "      <td>70000</td>\n",
       "      <td>Petrol</td>\n",
       "      <td>Individual</td>\n",
       "      <td>Manual</td>\n",
       "      <td>First Owner</td>\n",
       "      <td>Maruti</td>\n",
       "    </tr>\n",
       "    <tr>\n",
       "      <th>1</th>\n",
       "      <td>Maruti Wagon R LXI Minor</td>\n",
       "      <td>2007</td>\n",
       "      <td>135000</td>\n",
       "      <td>50000</td>\n",
       "      <td>Petrol</td>\n",
       "      <td>Individual</td>\n",
       "      <td>Manual</td>\n",
       "      <td>First Owner</td>\n",
       "      <td>Maruti</td>\n",
       "    </tr>\n",
       "    <tr>\n",
       "      <th>2</th>\n",
       "      <td>Hyundai Verna 1.6 SX</td>\n",
       "      <td>2012</td>\n",
       "      <td>600000</td>\n",
       "      <td>100000</td>\n",
       "      <td>Diesel</td>\n",
       "      <td>Individual</td>\n",
       "      <td>Manual</td>\n",
       "      <td>First Owner</td>\n",
       "      <td>Hyundai</td>\n",
       "    </tr>\n",
       "    <tr>\n",
       "      <th>3</th>\n",
       "      <td>Datsun RediGO T Option</td>\n",
       "      <td>2017</td>\n",
       "      <td>250000</td>\n",
       "      <td>46000</td>\n",
       "      <td>Petrol</td>\n",
       "      <td>Individual</td>\n",
       "      <td>Manual</td>\n",
       "      <td>First Owner</td>\n",
       "      <td>Datsun</td>\n",
       "    </tr>\n",
       "    <tr>\n",
       "      <th>4</th>\n",
       "      <td>Honda Amaze VX i-DTEC</td>\n",
       "      <td>2014</td>\n",
       "      <td>450000</td>\n",
       "      <td>141000</td>\n",
       "      <td>Diesel</td>\n",
       "      <td>Individual</td>\n",
       "      <td>Manual</td>\n",
       "      <td>Second Owner</td>\n",
       "      <td>Honda</td>\n",
       "    </tr>\n",
       "  </tbody>\n",
       "</table>\n",
       "</div>"
      ],
      "text/plain": [
       "                       name  year  selling_price  km_driven    fuel  \\\n",
       "0             Maruti 800 AC  2007          60000      70000  Petrol   \n",
       "1  Maruti Wagon R LXI Minor  2007         135000      50000  Petrol   \n",
       "2      Hyundai Verna 1.6 SX  2012         600000     100000  Diesel   \n",
       "3    Datsun RediGO T Option  2017         250000      46000  Petrol   \n",
       "4     Honda Amaze VX i-DTEC  2014         450000     141000  Diesel   \n",
       "\n",
       "  seller_type transmission         owner Model_Name  \n",
       "0  Individual       Manual   First Owner     Maruti  \n",
       "1  Individual       Manual   First Owner     Maruti  \n",
       "2  Individual       Manual   First Owner    Hyundai  \n",
       "3  Individual       Manual   First Owner     Datsun  \n",
       "4  Individual       Manual  Second Owner      Honda  "
      ]
     },
     "execution_count": 129,
     "metadata": {},
     "output_type": "execute_result"
    }
   ],
   "source": [
    "df.head()"
   ]
  },
  {
   "cell_type": "code",
   "execution_count": 130,
   "id": "a01dd475-b329-4c02-8e16-723390ab852b",
   "metadata": {},
   "outputs": [],
   "source": [
    "df1=df.copy()  # Original dataset"
   ]
  },
  {
   "cell_type": "code",
   "execution_count": 131,
   "id": "37ff1ff2-08fe-4d98-964a-a43d7e11458b",
   "metadata": {},
   "outputs": [
    {
     "data": {
      "text/plain": [
       "Model_Name\n",
       "Maruti           1072\n",
       "Hyundai           637\n",
       "Mahindra          328\n",
       "Tata              308\n",
       "Ford              220\n",
       "Honda             216\n",
       "Toyota            170\n",
       "Chevrolet         151\n",
       "Renault           110\n",
       "Volkswagen         93\n",
       "Nissan             52\n",
       "Skoda              49\n",
       "Fiat               32\n",
       "Audi               31\n",
       "Datsun             29\n",
       "BMW                25\n",
       "Mercedes-Benz      21\n",
       "Jaguar              5\n",
       "Mitsubishi          5\n",
       "Land                5\n",
       "Volvo               4\n",
       "Jeep                3\n",
       "Ambassador          3\n",
       "MG                  2\n",
       "OpelCorsa           2\n",
       "Daewoo              1\n",
       "Force               1\n",
       "Isuzu               1\n",
       "Kia                 1\n",
       "Name: count, dtype: int64"
      ]
     },
     "execution_count": 131,
     "metadata": {},
     "output_type": "execute_result"
    }
   ],
   "source": [
    "df1['Model_Name'].value_counts()"
   ]
  },
  {
   "cell_type": "code",
   "execution_count": 132,
   "id": "a8981cef-0d38-4ff4-bc2b-cd023b3c8ca6",
   "metadata": {},
   "outputs": [
    {
     "data": {
      "image/png": "[encoded data removed]",
      "text/plain": [
       "<Figure size 720x504 with 1 Axes>"
      ]
     },
     "metadata": {
      "needs_background": "light"
     },
     "output_type": "display_data"
    }
   ],
   "source": [
    "# Count plot the target variable\n",
    "plt.figure(figsize=(10,7))\n",
    "sns.countplot(x=df['Model_Name'])\n",
    "plt.title('Countplot of different model of Cars')\n",
    "plt.xticks(rotation=90)\n",
    "plt.xlabel('Model Name')\n",
    "plt.ylabel('Count of Cars')\n",
    "plt.grid()\n",
    "plt.show()"
   ]
  },
  {
   "cell_type": "code",
   "execution_count": 133,
   "id": "4ecf941b-5cc0-4f85-8fab-f2d3443b1933",
   "metadata": {},
   "outputs": [],
   "source": [
    "# Majority cars belongs to  Model Name - Maruti, Hyundai, Mahindra & Tata as per the dataset."
   ]
  },
  {
   "cell_type": "code",
   "execution_count": 134,
   "id": "5c58a49a-f292-4fa1-a04f-237489db63b0",
   "metadata": {},
   "outputs": [],
   "source": [
    "# Columns on which label encoding is to be done.\n",
    "cols=['fuel','seller_type','transmission','owner','Model_Name']"
   ]
  },
  {
   "cell_type": "code",
   "execution_count": 135,
   "id": "ef9616dc-9ada-4ab6-9d0e-7ca86cc73ed4",
   "metadata": {},
   "outputs": [],
   "source": [
    "from sklearn.preprocessing import LabelEncoder\n",
    "lb=LabelEncoder()"
   ]
  },
  {
   "cell_type": "code",
   "execution_count": 136,
   "id": "a083c7a7-41cd-481d-86f1-6fced776aea4",
   "metadata": {},
   "outputs": [],
   "source": [
    "for i in cols:\n",
    "    df[i]=lb.fit_transform(df[i])"
   ]
  },
  {
   "cell_type": "code",
   "execution_count": 137,
   "id": "54f0a404-062a-40d6-8746-25f0072ab4c8",
   "metadata": {},
   "outputs": [
    {
     "data": {
      "text/html": [
       "<div>\n",
       "<style scoped>\n",
       "    .dataframe tbody tr th:only-of-type {\n",
       "        vertical-align: middle;\n",
       "    }\n",
       "\n",
       "    .dataframe tbody tr th {\n",
       "        vertical-align: top;\n",
       "    }\n",
       "\n",
       "    .dataframe thead th {\n",
       "        text-align: right;\n",
       "    }\n",
       "</style>\n",
       "<table border=\"1\" class=\"dataframe\">\n",
       "  <thead>\n",
       "    <tr style=\"text-align: right;\">\n",
       "      <th></th>\n",
       "      <th>name</th>\n",
       "      <th>year</th>\n",
       "      <th>selling_price</th>\n",
       "      <th>km_driven</th>\n",
       "      <th>fuel</th>\n",
       "      <th>seller_type</th>\n",
       "      <th>transmission</th>\n",
       "      <th>owner</th>\n",
       "      <th>Model_Name</th>\n",
       "    </tr>\n",
       "  </thead>\n",
       "  <tbody>\n",
       "    <tr>\n",
       "      <th>0</th>\n",
       "      <td>Maruti 800 AC</td>\n",
       "      <td>2007</td>\n",
       "      <td>60000</td>\n",
       "      <td>70000</td>\n",
       "      <td>4</td>\n",
       "      <td>1</td>\n",
       "      <td>1</td>\n",
       "      <td>0</td>\n",
       "      <td>18</td>\n",
       "    </tr>\n",
       "    <tr>\n",
       "      <th>1</th>\n",
       "      <td>Maruti Wagon R LXI Minor</td>\n",
       "      <td>2007</td>\n",
       "      <td>135000</td>\n",
       "      <td>50000</td>\n",
       "      <td>4</td>\n",
       "      <td>1</td>\n",
       "      <td>1</td>\n",
       "      <td>0</td>\n",
       "      <td>18</td>\n",
       "    </tr>\n",
       "    <tr>\n",
       "      <th>2</th>\n",
       "      <td>Hyundai Verna 1.6 SX</td>\n",
       "      <td>2012</td>\n",
       "      <td>600000</td>\n",
       "      <td>100000</td>\n",
       "      <td>1</td>\n",
       "      <td>1</td>\n",
       "      <td>1</td>\n",
       "      <td>0</td>\n",
       "      <td>10</td>\n",
       "    </tr>\n",
       "    <tr>\n",
       "      <th>3</th>\n",
       "      <td>Datsun RediGO T Option</td>\n",
       "      <td>2017</td>\n",
       "      <td>250000</td>\n",
       "      <td>46000</td>\n",
       "      <td>4</td>\n",
       "      <td>1</td>\n",
       "      <td>1</td>\n",
       "      <td>0</td>\n",
       "      <td>5</td>\n",
       "    </tr>\n",
       "    <tr>\n",
       "      <th>4</th>\n",
       "      <td>Honda Amaze VX i-DTEC</td>\n",
       "      <td>2014</td>\n",
       "      <td>450000</td>\n",
       "      <td>141000</td>\n",
       "      <td>1</td>\n",
       "      <td>1</td>\n",
       "      <td>1</td>\n",
       "      <td>2</td>\n",
       "      <td>9</td>\n",
       "    </tr>\n",
       "  </tbody>\n",
       "</table>\n",
       "</div>"
      ],
      "text/plain": [
       "                       name  year  selling_price  km_driven  fuel  \\\n",
       "0             Maruti 800 AC  2007          60000      70000     4   \n",
       "1  Maruti Wagon R LXI Minor  2007         135000      50000     4   \n",
       "2      Hyundai Verna 1.6 SX  2012         600000     100000     1   \n",
       "3    Datsun RediGO T Option  2017         250000      46000     4   \n",
       "4     Honda Amaze VX i-DTEC  2014         450000     141000     1   \n",
       "\n",
       "   seller_type  transmission  owner  Model_Name  \n",
       "0            1             1      0          18  \n",
       "1            1             1      0          18  \n",
       "2            1             1      0          10  \n",
       "3            1             1      0           5  \n",
       "4            1             1      2           9  "
      ]
     },
     "execution_count": 137,
     "metadata": {},
     "output_type": "execute_result"
    }
   ],
   "source": [
    "df.head()"
   ]
  },
  {
   "cell_type": "code",
   "execution_count": 158,
   "id": "09dd08ad-c49b-4fb6-b2bb-7b2b8edfbac4",
   "metadata": {},
   "outputs": [],
   "source": [
    "# Saving the processed dataset\n",
    "df.to_csv('Processed_Car_dataset.csv',index=False)"
   ]
  },
  {
   "cell_type": "code",
   "execution_count": 139,
   "id": "34971d3b-6c9f-4560-843b-584ff12c012a",
   "metadata": {},
   "outputs": [
    {
     "data": {
      "image/png": "[encoded data removed]",
      "text/plain": [
       "<Figure size 360x288 with 1 Axes>"
      ]
     },
     "metadata": {
      "needs_background": "light"
     },
     "output_type": "display_data"
    }
   ],
   "source": [
    "plt.figure(figsize =(5,4))\n",
    " \n",
    "# Creating plot\n",
    "plt.boxplot(df['selling_price'])\n",
    " \n",
    "# show plot\n",
    "plt.show()"
   ]
  },
  {
   "cell_type": "code",
   "execution_count": 140,
   "id": "3dc2fbb6-61ee-4d8d-a941-e5e511e92f10",
   "metadata": {},
   "outputs": [
    {
     "data": {
      "image/png": "[encoded data removed]",
      "text/plain": [
       "<Figure size 360x288 with 1 Axes>"
      ]
     },
     "metadata": {
      "needs_background": "light"
     },
     "output_type": "display_data"
    }
   ],
   "source": [
    "plt.figure(figsize =(5,4))  \n",
    " \n",
    "# Creating plot\n",
    "plt.boxplot(df['km_driven'])\n",
    " \n",
    "# show plot\n",
    "plt.show()"
   ]
  },
  {
   "cell_type": "code",
   "execution_count": 141,
   "id": "32d178b1-621b-4db5-a5af-8cc3f4374745",
   "metadata": {},
   "outputs": [
    {
     "data": {
      "image/png": "[encoded data removed]",
      "text/plain": [
       "<Figure size 576x360 with 1 Axes>"
      ]
     },
     "metadata": {
      "needs_background": "light"
     },
     "output_type": "display_data"
    }
   ],
   "source": [
    "plt.figure(figsize =(8,5))\n",
    "plt.scatter(df['year'],df['selling_price'],color='orange', label='Actual data')\n",
    "plt.title('selling_price vs year - Scatter plot')\n",
    "plt.xlabel('year')\n",
    "plt.ylabel('selling_price')\n",
    "plt.legend()\n",
    "plt.grid()\n",
    "plt.show()"
   ]
  },
  {
   "cell_type": "code",
   "execution_count": 142,
   "id": "0ee10cae-b459-4440-adb3-f2fd6a2d158e",
   "metadata": {},
   "outputs": [],
   "source": [
    "# Min-max scaling is generally sensitive to outliers, \n",
    "# Here it is clearly visible that data contains outliers \n",
    "# Hence, standard scaling is a more robust choice."
   ]
  },
  {
   "cell_type": "code",
   "execution_count": 143,
   "id": "84e80ea8-a807-4601-9299-ac1b398441b8",
   "metadata": {},
   "outputs": [],
   "source": [
    "# Columns to be dropped from features (X)\n",
    "col_drop=['name','selling_price']"
   ]
  },
  {
   "cell_type": "code",
   "execution_count": 144,
   "id": "f8f683d7-abe3-438a-bb9b-d8b9c62973fa",
   "metadata": {},
   "outputs": [
    {
     "name": "stdout",
     "output_type": "stream",
     "text": [
      "(3577, 7)\n",
      "(3577,)\n",
      "<class 'pandas.core.frame.DataFrame'>\n",
      "<class 'pandas.core.series.Series'>\n"
     ]
    }
   ],
   "source": [
    "# Split the dataset into features (X) and the target variable (y)\n",
    "\n",
    "X = df.drop(col_drop,axis=1)\n",
    "y = df['selling_price']\n",
    "print(X.shape)\n",
    "print(y.shape)\n",
    "print(type(X))\n",
    "print(type(y))"
   ]
  },
  {
   "cell_type": "code",
   "execution_count": 145,
   "id": "2b9f5346-f34f-4a18-af6f-0de272ca98c5",
   "metadata": {},
   "outputs": [
    {
     "data": {
      "text/html": [
       "<div>\n",
       "<style scoped>\n",
       "    .dataframe tbody tr th:only-of-type {\n",
       "        vertical-align: middle;\n",
       "    }\n",
       "\n",
       "    .dataframe tbody tr th {\n",
       "        vertical-align: top;\n",
       "    }\n",
       "\n",
       "    .dataframe thead th {\n",
       "        text-align: right;\n",
       "    }\n",
       "</style>\n",
       "<table border=\"1\" class=\"dataframe\">\n",
       "  <thead>\n",
       "    <tr style=\"text-align: right;\">\n",
       "      <th></th>\n",
       "      <th>year</th>\n",
       "      <th>km_driven</th>\n",
       "      <th>fuel</th>\n",
       "      <th>seller_type</th>\n",
       "      <th>transmission</th>\n",
       "      <th>owner</th>\n",
       "      <th>Model_Name</th>\n",
       "    </tr>\n",
       "  </thead>\n",
       "  <tbody>\n",
       "    <tr>\n",
       "      <th>0</th>\n",
       "      <td>2007</td>\n",
       "      <td>70000</td>\n",
       "      <td>4</td>\n",
       "      <td>1</td>\n",
       "      <td>1</td>\n",
       "      <td>0</td>\n",
       "      <td>18</td>\n",
       "    </tr>\n",
       "    <tr>\n",
       "      <th>1</th>\n",
       "      <td>2007</td>\n",
       "      <td>50000</td>\n",
       "      <td>4</td>\n",
       "      <td>1</td>\n",
       "      <td>1</td>\n",
       "      <td>0</td>\n",
       "      <td>18</td>\n",
       "    </tr>\n",
       "    <tr>\n",
       "      <th>2</th>\n",
       "      <td>2012</td>\n",
       "      <td>100000</td>\n",
       "      <td>1</td>\n",
       "      <td>1</td>\n",
       "      <td>1</td>\n",
       "      <td>0</td>\n",
       "      <td>10</td>\n",
       "    </tr>\n",
       "    <tr>\n",
       "      <th>3</th>\n",
       "      <td>2017</td>\n",
       "      <td>46000</td>\n",
       "      <td>4</td>\n",
       "      <td>1</td>\n",
       "      <td>1</td>\n",
       "      <td>0</td>\n",
       "      <td>5</td>\n",
       "    </tr>\n",
       "    <tr>\n",
       "      <th>4</th>\n",
       "      <td>2014</td>\n",
       "      <td>141000</td>\n",
       "      <td>1</td>\n",
       "      <td>1</td>\n",
       "      <td>1</td>\n",
       "      <td>2</td>\n",
       "      <td>9</td>\n",
       "    </tr>\n",
       "  </tbody>\n",
       "</table>\n",
       "</div>"
      ],
      "text/plain": [
       "   year  km_driven  fuel  seller_type  transmission  owner  Model_Name\n",
       "0  2007      70000     4            1             1      0          18\n",
       "1  2007      50000     4            1             1      0          18\n",
       "2  2012     100000     1            1             1      0          10\n",
       "3  2017      46000     4            1             1      0           5\n",
       "4  2014     141000     1            1             1      2           9"
      ]
     },
     "execution_count": 145,
     "metadata": {},
     "output_type": "execute_result"
    }
   ],
   "source": [
    "X.head()"
   ]
  },
  {
   "cell_type": "code",
   "execution_count": 146,
   "id": "752a7173-4d41-41ed-a751-3fae3139eed2",
   "metadata": {},
   "outputs": [
    {
     "name": "stdout",
     "output_type": "stream",
     "text": [
      "[[-1.40256584  0.01575368  1.03272341 ...  0.30912612 -0.70888558\n",
      "   0.3434235 ]\n",
      " [-1.40256584 -0.4046503   1.03272341 ...  0.30912612 -0.70888558\n",
      "   0.3434235 ]\n",
      " [-0.22641758  0.64635965 -0.95617733 ...  0.30912612 -0.70888558\n",
      "  -0.84878892]\n",
      " ...\n",
      " [-0.93210654  0.28901627  1.03272341 ...  0.30912612  0.85731808\n",
      "   0.3434235 ]\n",
      " [ 0.71450103  0.43615766 -0.95617733 ...  0.30912612 -0.70888558\n",
      "  -0.84878892]\n",
      " [ 0.71450103 -0.61485229  1.03272341 ...  0.30912612 -0.70888558\n",
      "   1.08855627]]\n"
     ]
    }
   ],
   "source": [
    "# Standardize the features using Standard Scaling from sklearn preprocessing library\n",
    "from sklearn.preprocessing import StandardScaler\n",
    "scaler = StandardScaler()\n",
    "X_scaled = scaler.fit_transform(X)\n",
    "print(X_scaled)"
   ]
  },
  {
   "cell_type": "code",
   "execution_count": 147,
   "id": "6ff60af7-cb86-4d55-b072-51d546cddf03",
   "metadata": {},
   "outputs": [
    {
     "name": "stdout",
     "output_type": "stream",
     "text": [
      "Requirement already satisfied: scikit-learn in c:\\users\\aditya\\anaconda3\\lib\\site-packages (1.3.2)\n",
      "Requirement already satisfied: numpy<2.0,>=1.17.3 in c:\\users\\aditya\\anaconda3\\lib\\site-packages (from scikit-learn) (1.24.4)\n",
      "Requirement already satisfied: joblib>=1.1.1 in c:\\users\\aditya\\anaconda3\\lib\\site-packages (from scikit-learn) (1.3.2)\n",
      "Requirement already satisfied: scipy>=1.5.0 in c:\\users\\aditya\\anaconda3\\lib\\site-packages (from scikit-learn) (1.6.2)\n",
      "Requirement already satisfied: threadpoolctl>=2.0.0 in c:\\users\\aditya\\anaconda3\\lib\\site-packages (from scikit-learn) (2.1.0)\n",
      "Collecting numpy<2.0,>=1.17.3\n",
      "  Downloading numpy-1.22.4-cp38-cp38-win_amd64.whl (14.8 MB)\n",
      "Installing collected packages: numpy\n",
      "  Attempting uninstall: numpy\n",
      "    Found existing installation: numpy 1.24.4\n",
      "    Uninstalling numpy-1.24.4:\n",
      "      Successfully uninstalled numpy-1.24.4\n"
     ]
    },
    {
     "name": "stderr",
     "output_type": "stream",
     "text": [
      "ERROR: Could not install packages due to an OSError: [WinError 5] Access is denied: 'C:\\\\Users\\\\Aditya\\\\anaconda3\\\\Lib\\\\site-packages\\\\~umpy\\\\.libs\\\\libopenblas64__v0.3.21-gcc_10_3_0.dll'\n",
      "Consider using the `--user` option or check the permissions.\n",
      "\n"
     ]
    }
   ],
   "source": [
    "#print(X_scaled)\n",
    "!pip install -U scikit-learn"
   ]
  },
  {
   "cell_type": "code",
   "execution_count": 148,
   "id": "98de3f9e-f68a-45fb-9d8f-7f50ca01c251",
   "metadata": {},
   "outputs": [],
   "source": [
    "# Importing train_test_split from sklearn.model_selection\n",
    "from sklearn.model_selection import train_test_split"
   ]
  },
  {
   "cell_type": "code",
   "execution_count": 149,
   "id": "5ceb873b-fc95-4b69-be19-e59607c032ee",
   "metadata": {},
   "outputs": [],
   "source": [
    "# Splitting the Dataset in to training dataset(75%) and test dataset(25%)\n",
    "X_train, X_test, y_train, y_test = train_test_split(X_scaled, y, test_size=0.25, random_state=42)"
   ]
  },
  {
   "cell_type": "code",
   "execution_count": 150,
   "id": "6bcbccc7-7d1d-40b6-bfc6-256592a87da6",
   "metadata": {},
   "outputs": [],
   "source": [
    "from sklearn.linear_model import LinearRegression, Lasso, Ridge\n",
    "from sklearn.neighbors import KNeighborsRegressor\n",
    "from sklearn.tree import DecisionTreeRegressor\n",
    "from sklearn.ensemble import RandomForestRegressor\n",
    "from sklearn.ensemble import BaggingRegressor\n",
    "from sklearn.ensemble import AdaBoostRegressor"
   ]
  },
  {
   "cell_type": "code",
   "execution_count": 151,
   "id": "d4a670dd-711f-42d4-b9a7-24fd33c2f5ca",
   "metadata": {},
   "outputs": [],
   "source": [
    "from sklearn.metrics import mean_squared_error,mean_absolute_error,r2_score\n",
    "\n",
    "# Creating a function to generate Regression Metrics\n",
    "\n",
    "def reg_eval_metrics(y_train, ypred): \n",
    "    mae = mean_absolute_error(y_train, ypred)\n",
    "    mse = mean_squared_error(y_train, ypred)\n",
    "    rmse = np.sqrt(mse)\n",
    "    r2 = r2_score(y_train, ypred)\n",
    "    print(\"MAE:\", mae)\n",
    "    print(\"MSE:\", mse)\n",
    "    print(\"RMSE:\", rmse)\n",
    "    print(\"R2 Score:\", r2)\n",
    "\n",
    "def train_test_scr(model):\n",
    "    print('Training Score',model.score(X_train,y_train))  # R2 score for Training data\n",
    "    print('Testing Score',model.score(X_test,y_test))     # R2 score for test data\n"
   ]
  },
  {
   "cell_type": "code",
   "execution_count": 152,
   "id": "c5a962a9-7124-44eb-98b5-ba94be6fb303",
   "metadata": {},
   "outputs": [],
   "source": [
    "# Initialize and train the Regressors algorithms \n",
    "regressors = {\n",
    "    'Linear Regression': LinearRegression(),\n",
    "    'Lasso Regression': Lasso(),\n",
    "    'Ridge Regression': Ridge(),\n",
    "    'KNN Regression': KNeighborsRegressor(n_neighbors=11),\n",
    "    'Decision Tree Regression': DecisionTreeRegressor(max_depth=5),\n",
    "    'RandomForest Regression': RandomForestRegressor(n_estimators=100, random_state=42),\n",
    "    'Bagging_DT Regression': BaggingRegressor(DecisionTreeRegressor(max_depth=5), n_estimators=20, random_state=42),\n",
    "    'Bagging_LR Regression': BaggingRegressor(LinearRegression(), n_estimators=20, random_state=42),\n",
    "    'AdaBoost_DT Regression': AdaBoostRegressor(DecisionTreeRegressor(max_depth=5), n_estimators=50, random_state=42)\n",
    "}"
   ]
  },
  {
   "cell_type": "code",
   "execution_count": 153,
   "id": "b16c20c9-8729-4917-80cd-2941f91fce71",
   "metadata": {},
   "outputs": [
    {
     "name": "stdout",
     "output_type": "stream",
     "text": [
      "Training : Linear Regression\n",
      "Predicting using : Linear Regression\n",
      "MAE: 211816.66012335496\n",
      "MSE: 186093695792.76746\n",
      "RMSE: 431385.7853392569\n",
      "R2 Score: 0.410259458507105\n",
      "Training Score 0.43601759171258403\n",
      "Testing Score 0.410259458507105\n",
      "\n",
      "Training : Lasso Regression\n",
      "Predicting using : Lasso Regression\n",
      "MAE: 211816.3768599178\n",
      "MSE: 186093830122.1211\n",
      "RMSE: 431385.9410343841\n",
      "R2 Score: 0.41025903281043963\n",
      "Training Score 0.4360175916914871\n",
      "Testing Score 0.41025903281043963\n",
      "\n",
      "Training : Ridge Regression\n",
      "Predicting using : Ridge Regression\n",
      "MAE: 211798.08243057455\n",
      "MSE: 186098334846.31387\n",
      "RMSE: 431391.1622255536\n",
      "R2 Score: 0.41024475710661523\n",
      "Training Score 0.43601754750301447\n",
      "Testing Score 0.41024475710661523\n",
      "\n",
      "Training : KNN Regression\n",
      "Predicting using : KNN Regression\n",
      "MAE: 179167.93285931944\n",
      "MSE: 182051822623.753\n",
      "RMSE: 426675.31288293796\n",
      "R2 Score: 0.4230683635115744\n",
      "Training Score 0.6106575352503731\n",
      "Testing Score 0.4230683635115744\n",
      "\n",
      "Training : Decision Tree Regression\n",
      "Predicting using : Decision Tree Regression\n",
      "MAE: 190761.8020188841\n",
      "MSE: 226243560113.46054\n",
      "RMSE: 475650.6702544006\n",
      "R2 Score: 0.28302246305445167\n",
      "Training Score 0.7229160301416775\n",
      "Testing Score 0.28302246305445167\n",
      "\n",
      "Training : RandomForest Regression\n",
      "Predicting using : RandomForest Regression\n",
      "MAE: 169926.5945294485\n",
      "MSE: 160294165298.102\n",
      "RMSE: 400367.5377676142\n",
      "R2 Score: 0.4920195042699116\n",
      "Training Score 0.9348271825357175\n",
      "Testing Score 0.4920195042699116\n",
      "\n",
      "Training : Bagging_DT Regression\n",
      "Predicting using : Bagging_DT Regression\n",
      "MAE: 173025.8151669141\n",
      "MSE: 157668265572.7558\n",
      "RMSE: 397074.63476373785\n",
      "R2 Score: 0.5003411162371231\n",
      "Training Score 0.7486171955900942\n",
      "Testing Score 0.5003411162371231\n",
      "\n",
      "Training : Bagging_LR Regression\n",
      "Predicting using : Bagging_LR Regression\n",
      "MAE: 212015.6906519419\n",
      "MSE: 186087059070.1746\n",
      "RMSE: 431378.09294188156\n",
      "R2 Score: 0.41028049062406624\n",
      "Training Score 0.43581711703002446\n",
      "Testing Score 0.41028049062406624\n",
      "\n",
      "Training : AdaBoost_DT Regression\n",
      "Predicting using : AdaBoost_DT Regression\n",
      "MAE: 219805.86834350944\n",
      "MSE: 159043234121.8416\n",
      "RMSE: 398802.24939415976\n",
      "R2 Score: 0.49598376983041537\n",
      "Training Score 0.7480127587196863\n",
      "Testing Score 0.49598376983041537\n",
      "\n"
     ]
    }
   ],
   "source": [
    "# Fitting various classification algorithm on the training data \n",
    "# Evaluating the model using Model evaluation techniques like(MSE,RMSE,MAE,R2 Score, Model Score )\n",
    "model=[]\n",
    "results = {}\n",
    "for reg_name, reg in regressors.items():\n",
    "    m=reg.fit(X_train, y_train)\n",
    "    print(\"Training :\",reg_name)\n",
    "    ypred = reg.predict(X_test)\n",
    "    print(\"Predicting using :\",reg_name)\n",
    "    reg_eval_metrics(y_test,ypred) \n",
    "    train_test_scr(m)\n",
    "   # model_coeff(m)\n",
    "    results[reg_name] = m.score(X_test, y_test)\n",
    "    model.append(m)\n",
    "    print(\"\")"
   ]
  },
  {
   "cell_type": "code",
   "execution_count": 154,
   "id": "56b5ea07-a8c1-482d-86c6-c850b91a9e61",
   "metadata": {},
   "outputs": [
    {
     "name": "stdout",
     "output_type": "stream",
     "text": [
      "{'Linear Regression': 0.410259458507105, 'Lasso Regression': 0.41025903281043963, 'Ridge Regression': 0.41024475710661523, 'KNN Regression': 0.4230683635115744, 'Decision Tree Regression': 0.28302246305445167, 'RandomForest Regression': 0.4920195042699116, 'Bagging_DT Regression': 0.5003411162371231, 'Bagging_LR Regression': 0.41028049062406624, 'AdaBoost_DT Regression': 0.49598376983041537}\n"
     ]
    }
   ],
   "source": [
    "print(results)"
   ]
  },
  {
   "cell_type": "code",
   "execution_count": 155,
   "id": "900c8e90-94d7-4294-9855-166b23a49414",
   "metadata": {},
   "outputs": [
    {
     "name": "stdout",
     "output_type": "stream",
     "text": [
      "[LinearRegression(), Lasso(), Ridge(), KNeighborsRegressor(n_neighbors=11), DecisionTreeRegressor(max_depth=5), RandomForestRegressor(random_state=42), BaggingRegressor(estimator=DecisionTreeRegressor(max_depth=5), n_estimators=20,\n",
      "                 random_state=42), BaggingRegressor(estimator=LinearRegression(), n_estimators=20, random_state=42), AdaBoostRegressor(estimator=DecisionTreeRegressor(max_depth=5), random_state=42)]\n"
     ]
    }
   ],
   "source": [
    "print(model)"
   ]
  },
  {
   "cell_type": "code",
   "execution_count": 156,
   "id": "8442a09a-9fd1-4b2c-a25b-fb11c2e82acb",
   "metadata": {},
   "outputs": [
    {
     "data": {
      "text/html": [
       "<div>\n",
       "<style scoped>\n",
       "    .dataframe tbody tr th:only-of-type {\n",
       "        vertical-align: middle;\n",
       "    }\n",
       "\n",
       "    .dataframe tbody tr th {\n",
       "        vertical-align: top;\n",
       "    }\n",
       "\n",
       "    .dataframe thead th {\n",
       "        text-align: right;\n",
       "    }\n",
       "</style>\n",
       "<table border=\"1\" class=\"dataframe\">\n",
       "  <thead>\n",
       "    <tr style=\"text-align: right;\">\n",
       "      <th></th>\n",
       "      <th>R2_Score</th>\n",
       "    </tr>\n",
       "  </thead>\n",
       "  <tbody>\n",
       "    <tr>\n",
       "      <th>Linear Regression</th>\n",
       "      <td>0.410259</td>\n",
       "    </tr>\n",
       "    <tr>\n",
       "      <th>Lasso Regression</th>\n",
       "      <td>0.410259</td>\n",
       "    </tr>\n",
       "    <tr>\n",
       "      <th>Ridge Regression</th>\n",
       "      <td>0.410245</td>\n",
       "    </tr>\n",
       "    <tr>\n",
       "      <th>KNN Regression</th>\n",
       "      <td>0.423068</td>\n",
       "    </tr>\n",
       "    <tr>\n",
       "      <th>Decision Tree Regression</th>\n",
       "      <td>0.283022</td>\n",
       "    </tr>\n",
       "    <tr>\n",
       "      <th>RandomForest Regression</th>\n",
       "      <td>0.492020</td>\n",
       "    </tr>\n",
       "    <tr>\n",
       "      <th>Bagging_DT Regression</th>\n",
       "      <td>0.500341</td>\n",
       "    </tr>\n",
       "    <tr>\n",
       "      <th>Bagging_LR Regression</th>\n",
       "      <td>0.410280</td>\n",
       "    </tr>\n",
       "    <tr>\n",
       "      <th>AdaBoost_DT Regression</th>\n",
       "      <td>0.495984</td>\n",
       "    </tr>\n",
       "  </tbody>\n",
       "</table>\n",
       "</div>"
      ],
      "text/plain": [
       "                          R2_Score\n",
       "Linear Regression         0.410259\n",
       "Lasso Regression          0.410259\n",
       "Ridge Regression          0.410245\n",
       "KNN Regression            0.423068\n",
       "Decision Tree Regression  0.283022\n",
       "RandomForest Regression   0.492020\n",
       "Bagging_DT Regression     0.500341\n",
       "Bagging_LR Regression     0.410280\n",
       "AdaBoost_DT Regression    0.495984"
      ]
     },
     "execution_count": 156,
     "metadata": {},
     "output_type": "execute_result"
    }
   ],
   "source": [
    "# Consolidated Report of Classifiers with their Accuracy\n",
    "res = pd.DataFrame(results,index=['R2_Score'])\n",
    "res.T # T indicates Transpose"
   ]
  },
  {
   "cell_type": "code",
   "execution_count": 157,
   "id": "7244f79b-1516-4ce6-a7a2-c10cf8cd3a75",
   "metadata": {},
   "outputs": [
    {
     "name": "stdout",
     "output_type": "stream",
     "text": [
      "The best model is: Bagging_DT Regression with R2 score: 0.5003411162371231\n"
     ]
    }
   ],
   "source": [
    "# Find the best model\n",
    "best_model = max(results, key=results.get)\n",
    "\n",
    "print(f\"The best model is: {best_model} with R2 score: {results[best_model]}\")"
   ]
  },
  {
   "cell_type": "code",
   "execution_count": 62,
   "id": "6ec1a931-226b-467a-8480-e2a6ba49613a",
   "metadata": {},
   "outputs": [
    {
     "name": "stdout",
     "output_type": "stream",
     "text": [
      "RandomForestRegressor(random_state=42)\n"
     ]
    }
   ],
   "source": [
    "# To get the best model : RandomForestRegressor\n",
    "Best_Model=model[5]\n",
    "print(Best_Model)"
   ]
  },
  {
   "cell_type": "code",
   "execution_count": 64,
   "id": "66f5708f-117b-43d8-89b5-200ac9847a21",
   "metadata": {},
   "outputs": [
    {
     "name": "stdout",
     "output_type": "stream",
     "text": [
      "[ 69692.06349206 129174.99       576715.         ... 121556.65666667\n",
      " 852007.60733333 272664.93      ]\n"
     ]
    }
   ],
   "source": [
    "ypred=Best_Model.predict(X_scaled)\n",
    "print(ypred)"
   ]
  },
  {
   "cell_type": "code",
   "execution_count": 191,
   "id": "ae578e78-5bd0-4486-8997-2936cb56e3f7",
   "metadata": {},
   "outputs": [],
   "source": [
    "def optimal_k():\n",
    "    k=list(range(3,20,2))\n",
    "    acc=[]\n",
    "    for i in range(len(k)):\n",
    "        m1 = KNeighborsRegressor(n_neighbors=k[i])\n",
    "        m1.fit(X_train, y_train)\n",
    "        acc.append(m1.score(X_test, y_test))\n",
    "    print('Accuracy \\n',acc)\n",
    "    plt.plot(k,acc,color='maroon',marker='o')\n",
    "    plt.xlabel('Num of Nearest Neighbors')\n",
    "    plt.ylabel('Test accuarcy')\n",
    "    plt.grid()\n",
    "    plt.show()"
   ]
  },
  {
   "cell_type": "code",
   "execution_count": 192,
   "id": "60dcf1bd-df44-4168-8372-065fa1574965",
   "metadata": {},
   "outputs": [
    {
     "name": "stdout",
     "output_type": "stream",
     "text": [
      "Accuracy \n",
      " [0.5210619370664403, 0.521316366326025, 0.5306173280093835, 0.5350459168421251, 0.5415120593699144, 0.5316194916367389, 0.521888863328539, 0.5155987117601624, 0.5132840039437183]\n"
     ]
    },
    {
     "data": {
      "image/png": "[encoded data removed]",
      "text/plain": [
       "<Figure size 432x288 with 1 Axes>"
      ]
     },
     "metadata": {
      "needs_background": "light"
     },
     "output_type": "display_data"
    }
   ],
   "source": [
    "optimal_k()"
   ]
  },
  {
   "cell_type": "code",
   "execution_count": 193,
   "id": "8dda82f1-3209-43af-9b49-dd14083dec8c",
   "metadata": {},
   "outputs": [],
   "source": [
    "# To save the best model and load the model using pickle library"
   ]
  },
  {
   "cell_type": "code",
   "execution_count": 2,
   "id": "cc5dd3d7-8511-406b-9e0a-c68464ca9c8e",
   "metadata": {},
   "outputs": [],
   "source": [
    "import pickle"
   ]
  },
  {
   "cell_type": "code",
   "execution_count": 76,
   "id": "3af08f54-bf7b-4f11-8867-a5addb8cf192",
   "metadata": {},
   "outputs": [],
   "source": [
    "pickle.dump(Best_Model, open('best_model.pkl', 'wb'))   # wb = write binary"
   ]
  },
  {
   "cell_type": "code",
   "execution_count": 77,
   "id": "b85d20f4-814f-4a0b-81d0-56e8965f69a5",
   "metadata": {},
   "outputs": [],
   "source": [
    "loaded_model = pickle.load(open('Best_Model.pkl', 'rb'))  # rb = read binary"
   ]
  },
  {
   "cell_type": "code",
   "execution_count": 78,
   "id": "40d502eb-4f3d-4b9d-a2c5-e146ed5ae5ec",
   "metadata": {},
   "outputs": [],
   "source": [
    "# Taking original dataset and randomly generating 20 data points and applying on the best model"
   ]
  },
  {
   "cell_type": "code",
   "execution_count": 80,
   "id": "d5ef4832-e8d0-4613-8da7-663207b9e9ea",
   "metadata": {},
   "outputs": [
    {
     "name": "stdout",
     "output_type": "stream",
     "text": [
      "Original Dataset:\n",
      "                                     name  year  selling_price  km_driven  \\\n",
      "0                           Maruti 800 AC  2007          60000      70000   \n",
      "1                Maruti Wagon R LXI Minor  2007         135000      50000   \n",
      "2                    Hyundai Verna 1.6 SX  2012         600000     100000   \n",
      "3                  Datsun RediGO T Option  2017         250000      46000   \n",
      "4                   Honda Amaze VX i-DTEC  2014         450000     141000   \n",
      "...                                   ...   ...            ...        ...   \n",
      "4335  Hyundai i20 Magna 1.4 CRDi (Diesel)  2014         409999      80000   \n",
      "4336           Hyundai i20 Magna 1.4 CRDi  2014         409999      80000   \n",
      "4337                  Maruti 800 AC BSIII  2009         110000      83000   \n",
      "4338     Hyundai Creta 1.6 CRDi SX Option  2016         865000      90000   \n",
      "4339                     Renault KWID RXT  2016         225000      40000   \n",
      "\n",
      "        fuel seller_type transmission         owner Model_Name  \n",
      "0     Petrol  Individual       Manual   First Owner     Maruti  \n",
      "1     Petrol  Individual       Manual   First Owner     Maruti  \n",
      "2     Diesel  Individual       Manual   First Owner    Hyundai  \n",
      "3     Petrol  Individual       Manual   First Owner     Datsun  \n",
      "4     Diesel  Individual       Manual  Second Owner      Honda  \n",
      "...      ...         ...          ...           ...        ...  \n",
      "4335  Diesel  Individual       Manual  Second Owner    Hyundai  \n",
      "4336  Diesel  Individual       Manual  Second Owner    Hyundai  \n",
      "4337  Petrol  Individual       Manual  Second Owner     Maruti  \n",
      "4338  Diesel  Individual       Manual   First Owner    Hyundai  \n",
      "4339  Petrol  Individual       Manual   First Owner    Renault  \n",
      "\n",
      "[4340 rows x 9 columns]\n",
      "\n",
      "Random Dataset (20 data points):\n",
      "                                          name  year  selling_price  \\\n",
      "2938              Maruti Eeco 5 Seater AC BSIV  2017         425000   \n",
      "2383                        Mahindra Bolero B4  2017         800000   \n",
      "1787                          Maruti Swift VDI  2012         190000   \n",
      "2333                    Maruti Ertiga ZDI Plus  2019        1100000   \n",
      "2155                       Hyundai Tucson CRDi  2006         170000   \n",
      "2621                Chevrolet Aveo U-VA 1.2 LS  2009         130000   \n",
      "1517           Renault Duster 110PS Diesel RxL  2015         800000   \n",
      "597                      Maruti Swift ZXI BSIV  2016         670000   \n",
      "2937                             Honda Jazz VX  2011         385000   \n",
      "3925                    Hyundai EON Magna Plus  2014         320000   \n",
      "300                            Hyundai i10 Era  2009         250000   \n",
      "972                    Mahindra XUV500 W5 BSIV  2018        1050000   \n",
      "3129          Tata New Safari DICOR 2.2 EX 4x2  2010         350000   \n",
      "748                     Mahindra XUV500 W8 4WD  2013         900000   \n",
      "1670              Maruti Wagon R LXI DUO BS IV  2012         180000   \n",
      "1651                 Toyota Etios Cross 1.2L G  2015         320000   \n",
      "3447                     Mahindra Ingenio CRDe  2015         210000   \n",
      "2237  Mercedes-Benz C-Class Progressive C 220d  2018        3800000   \n",
      "3536                       Datsun RediGO 1.0 S  2017         250000   \n",
      "1965                      Hyundai Verna 1.4 EX  2011         500000   \n",
      "\n",
      "      km_driven    fuel       seller_type transmission        owner  \\\n",
      "2938       8352  Petrol            Dealer       Manual  First Owner   \n",
      "2383      75000  Diesel            Dealer       Manual  First Owner   \n",
      "1787      80000  Diesel        Individual       Manual  Third Owner   \n",
      "2333      30000  Diesel        Individual       Manual  First Owner   \n",
      "2155     170000  Diesel        Individual       Manual  First Owner   \n",
      "2621      87293  Petrol            Dealer       Manual  First Owner   \n",
      "1517      15000  Diesel        Individual       Manual  First Owner   \n",
      "597        7104  Petrol  Trustmark Dealer       Manual  First Owner   \n",
      "2937      11473  Petrol            Dealer       Manual  First Owner   \n",
      "3925      80000  Petrol        Individual       Manual  First Owner   \n",
      "300       50000  Petrol        Individual       Manual  First Owner   \n",
      "972       35000  Diesel        Individual       Manual  First Owner   \n",
      "3129     100000  Diesel        Individual       Manual  First Owner   \n",
      "748       63654  Diesel            Dealer       Manual  First Owner   \n",
      "1670      60000     LPG        Individual       Manual  First Owner   \n",
      "1651      60000  Petrol        Individual       Manual  First Owner   \n",
      "3447     210000  Diesel        Individual       Manual  First Owner   \n",
      "2237      10000  Diesel            Dealer    Automatic  First Owner   \n",
      "3536      15000  Petrol        Individual       Manual  First Owner   \n",
      "1965      31000  Diesel        Individual       Manual  First Owner   \n",
      "\n",
      "         Model_Name  \n",
      "2938         Maruti  \n",
      "2383       Mahindra  \n",
      "1787         Maruti  \n",
      "2333         Maruti  \n",
      "2155        Hyundai  \n",
      "2621      Chevrolet  \n",
      "1517        Renault  \n",
      "597          Maruti  \n",
      "2937          Honda  \n",
      "3925        Hyundai  \n",
      "300         Hyundai  \n",
      "972        Mahindra  \n",
      "3129           Tata  \n",
      "748        Mahindra  \n",
      "1670         Maruti  \n",
      "1651         Toyota  \n",
      "3447       Mahindra  \n",
      "2237  Mercedes-Benz  \n",
      "3536         Datsun  \n",
      "1965        Hyundai  \n"
     ]
    }
   ],
   "source": [
    "import random\n",
    "\n",
    "# Function to generate a random dataset with a specific number of data points\n",
    "def generate_random_dataset(df1, num_points=20):\n",
    "    if num_points > len(df1):\n",
    "        raise ValueError(\"Number of points requested is greater than the size of the original dataset.\")\n",
    "    \n",
    "    random_indices = random.sample(range(len(df1)), num_points)\n",
    "    random_data = df1.iloc[random_indices]\n",
    "    return random_data\n",
    "\n",
    "# Generate a random dataset with 20 data points\n",
    "random_data = generate_random_dataset(df1, num_points=20)\n",
    "\n",
    "# Display the original and random datasets\n",
    "print(\"Original Dataset:\")\n",
    "print(df1)\n",
    "print(\"\\nRandom Dataset (20 data points):\")\n",
    "print(random_data)"
   ]
  },
  {
   "cell_type": "code",
   "execution_count": 81,
   "id": "7f0356d4-4fb7-40e1-86a4-1cec06b5f879",
   "metadata": {},
   "outputs": [],
   "source": [
    "# Saving the randomly generated dataset\n",
    "random_data.to_csv('Random_Car_dataset.csv',index=False)"
   ]
  },
  {
   "cell_type": "code",
   "execution_count": 82,
   "id": "355b1380-5d41-4588-b296-5b0a16a33cb7",
   "metadata": {},
   "outputs": [],
   "source": [
    "from sklearn.preprocessing import LabelEncoder\n",
    "lb=LabelEncoder()"
   ]
  },
  {
   "cell_type": "code",
   "execution_count": 83,
   "id": "9f71af56-c2e7-4a42-afb7-fb00b7960b5d",
   "metadata": {},
   "outputs": [],
   "source": [
    "for i in cols:\n",
    "    random_data[i]=lb.fit_transform(random_data[i])"
   ]
  },
  {
   "cell_type": "code",
   "execution_count": 84,
   "id": "e753e45f-eef6-48b0-af0f-91d81a367686",
   "metadata": {},
   "outputs": [],
   "source": [
    "# Columns to be dropped from features (X)\n",
    "col_drop=['name','selling_price']"
   ]
  },
  {
   "cell_type": "code",
   "execution_count": 85,
   "id": "e33f1d52-9a70-4cef-b88a-5d3a434b2fa5",
   "metadata": {},
   "outputs": [
    {
     "name": "stdout",
     "output_type": "stream",
     "text": [
      "(20, 7)\n",
      "(20,)\n",
      "<class 'pandas.core.frame.DataFrame'>\n",
      "<class 'pandas.core.series.Series'>\n"
     ]
    }
   ],
   "source": [
    "# Split the dataset into features (X) and the target variable (y)\n",
    "\n",
    "X20 = random_data.drop(col_drop,axis=1)\n",
    "y20 = random_data['selling_price']\n",
    "print(X20.shape)\n",
    "print(y20.shape)\n",
    "print(type(X20))\n",
    "print(type(y20))"
   ]
  },
  {
   "cell_type": "code",
   "execution_count": 86,
   "id": "32987d08-b103-4643-bd34-c7de25d3a209",
   "metadata": {},
   "outputs": [],
   "source": [
    "# Standardize the features using Standard Scaling from sklearn preprocessing library\n",
    "from sklearn.preprocessing import StandardScaler\n",
    "scaler = StandardScaler()\n",
    "X_scaled20 = scaler.fit_transform(X20)"
   ]
  },
  {
   "cell_type": "code",
   "execution_count": 87,
   "id": "3ca463f2-03e8-4972-bf5d-c26650a67ba0",
   "metadata": {},
   "outputs": [
    {
     "name": "stdout",
     "output_type": "stream",
     "text": [
      "0.9074250993589155\n"
     ]
    }
   ],
   "source": [
    "# Applying the random dataset on the RandomForestRegressor model and checking model score.\n",
    "test_model_score = loaded_model.score(X_scaled20,y20)\n",
    "print(test_model_score)"
   ]
  },
  {
   "cell_type": "code",
   "execution_count": null,
   "id": "a039d205-41dd-4c54-8562-e45cb6fcf76b",
   "metadata": {},
   "outputs": [],
   "source": []
  },
  {
   "cell_type": "code",
   "execution_count": 261,
   "id": "8ecbd38c-9141-476f-8e83-4119167a6f1b",
   "metadata": {},
   "outputs": [
    {
     "data": {
      "text/plain": [
       "28"
      ]
     },
     "execution_count": 261,
     "metadata": {},
     "output_type": "execute_result"
    }
   ],
   "source": []
  },
  {
   "cell_type": "code",
   "execution_count": 88,
   "id": "7b252438-83e4-47e9-9e2c-d9373cf6954d",
   "metadata": {},
   "outputs": [
    {
     "name": "stdout",
     "output_type": "stream",
     "text": [
      "{'year': -1.4449078170681682, 'km_driven': 0.08112971206813582, 'fuel': 1.0148764413914573, 'seller_type': 0.44813999935569204, 'transmission': 0.33923648257272854, 'owner': -0.6650026814617235, 'Model_Name': 0.3581312643184909}\n"
     ]
    },
    {
     "data": {
      "text/html": [
       "<div>\n",
       "<style scoped>\n",
       "    .dataframe tbody tr th:only-of-type {\n",
       "        vertical-align: middle;\n",
       "    }\n",
       "\n",
       "    .dataframe tbody tr th {\n",
       "        vertical-align: top;\n",
       "    }\n",
       "\n",
       "    .dataframe thead th {\n",
       "        text-align: right;\n",
       "    }\n",
       "</style>\n",
       "<table border=\"1\" class=\"dataframe\">\n",
       "  <thead>\n",
       "    <tr style=\"text-align: right;\">\n",
       "      <th></th>\n",
       "      <th>value</th>\n",
       "    </tr>\n",
       "  </thead>\n",
       "  <tbody>\n",
       "    <tr>\n",
       "      <th>year</th>\n",
       "      <td>-1.444908</td>\n",
       "    </tr>\n",
       "    <tr>\n",
       "      <th>km_driven</th>\n",
       "      <td>0.081130</td>\n",
       "    </tr>\n",
       "    <tr>\n",
       "      <th>fuel</th>\n",
       "      <td>1.014876</td>\n",
       "    </tr>\n",
       "    <tr>\n",
       "      <th>seller_type</th>\n",
       "      <td>0.448140</td>\n",
       "    </tr>\n",
       "    <tr>\n",
       "      <th>transmission</th>\n",
       "      <td>0.339236</td>\n",
       "    </tr>\n",
       "    <tr>\n",
       "      <th>owner</th>\n",
       "      <td>-0.665003</td>\n",
       "    </tr>\n",
       "    <tr>\n",
       "      <th>Model_Name</th>\n",
       "      <td>0.358131</td>\n",
       "    </tr>\n",
       "  </tbody>\n",
       "</table>\n",
       "</div>"
      ],
      "text/plain": [
       "                 value\n",
       "year         -1.444908\n",
       "km_driven     0.081130\n",
       "fuel          1.014876\n",
       "seller_type   0.448140\n",
       "transmission  0.339236\n",
       "owner        -0.665003\n",
       "Model_Name    0.358131"
      ]
     },
     "execution_count": 88,
     "metadata": {},
     "output_type": "execute_result"
    }
   ],
   "source": [
    "input={'year':2007,\n",
    "       'km_driven':70000,\n",
    "       'fuel':4,\n",
    "       'seller_type':1,\n",
    "       'transmission':1,\n",
    "       'owner':0,\n",
    "       'Model_Name':18}\n",
    "scaled_data={}\n",
    "for i_name, i in input.items():\n",
    "    mean_value = X[i_name].mean()\n",
    "    std_value = X[i_name].std()\n",
    "    S_data = (i - mean_value) / std_value\n",
    "    scaled_data[i_name]=S_data\n",
    "\n",
    "print(scaled_data)\n",
    "X1_scaled=pd.DataFrame(scaled_data, index=['value'])\n",
    "X1_scaled.T"
   ]
  },
  {
   "cell_type": "code",
   "execution_count": 89,
   "id": "c53cd988-94e1-4963-a73f-341c8e2675dc",
   "metadata": {},
   "outputs": [],
   "source": [
    "#SP_model_name=df.groupby('Model_Name')['selling_price'].mean()\n",
    "#SP_model_name.sort_values(ascending=False)"
   ]
  },
  {
   "cell_type": "code",
   "execution_count": 90,
   "id": "5196f980-b8d2-4287-9212-9ff8bbb1c86e",
   "metadata": {},
   "outputs": [],
   "source": [
    "df2=df.copy()"
   ]
  },
  {
   "cell_type": "code",
   "execution_count": 95,
   "id": "525c57d6-414f-4791-86b8-b63a18e4f0ab",
   "metadata": {},
   "outputs": [],
   "source": [
    "#df.drop('First Name',axis=1,inplace=True)"
   ]
  },
  {
   "cell_type": "code",
   "execution_count": null,
   "id": "6f5bd0b6-9d73-4bce-b820-233fa6934fcd",
   "metadata": {},
   "outputs": [],
   "source": []
  }
 ],
 "metadata": {
  "kernelspec": {
   "display_name": "Python 3",
   "language": "python",
   "name": "python3"
  },
  "language_info": {
   "codemirror_mode": {
    "name": "ipython",
    "version": 3
   },
   "file_extension": ".py",
   "mimetype": "text/x-python",
   "name": "python",
   "nbconvert_exporter": "python",
   "pygments_lexer": "ipython3",
   "version": "3.8.8"
  }
 },
 "nbformat": 4,
 "nbformat_minor": 5
}
