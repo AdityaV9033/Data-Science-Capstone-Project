{
 "cells": [
  {
   "cell_type": "code",
   "execution_count": 44,
   "id": "c8b330af-fe5b-47e3-926e-d45827b12f03",
   "metadata": {},
   "outputs": [],
   "source": [
    "import pandas as pd\n",
    "# pandas is aliased as pd\n",
    "import numpy as np\n",
    "# numpy is aliased as np\n",
    "import matplotlib.pyplot as plt\n",
    "# pyplot s aliased as plt\n",
    "import seaborn as sns\n",
    "# seaborn is aliased as sns\n",
    "import warnings\n",
    "warnings.filterwarnings('ignore')\n",
    "# Ignore all warnings"
   ]
  },
  {
   "cell_type": "code",
   "execution_count": 45,
   "id": "913bf1f7-60ed-4d80-bb47-cdfed12cd98a",
   "metadata": {},
   "outputs": [
    {
     "data": {
      "text/html": [
       "<div>\n",
       "<style scoped>\n",
       "    .dataframe tbody tr th:only-of-type {\n",
       "        vertical-align: middle;\n",
       "    }\n",
       "\n",
       "    .dataframe tbody tr th {\n",
       "        vertical-align: top;\n",
       "    }\n",
       "\n",
       "    .dataframe thead th {\n",
       "        text-align: right;\n",
       "    }\n",
       "</style>\n",
       "<table border=\"1\" class=\"dataframe\">\n",
       "  <thead>\n",
       "    <tr style=\"text-align: right;\">\n",
       "      <th></th>\n",
       "      <th>name</th>\n",
       "      <th>year</th>\n",
       "      <th>selling_price</th>\n",
       "      <th>km_driven</th>\n",
       "      <th>fuel</th>\n",
       "      <th>seller_type</th>\n",
       "      <th>transmission</th>\n",
       "      <th>owner</th>\n",
       "    </tr>\n",
       "  </thead>\n",
       "  <tbody>\n",
       "    <tr>\n",
       "      <th>0</th>\n",
       "      <td>Maruti 800 AC</td>\n",
       "      <td>2007</td>\n",
       "      <td>60000</td>\n",
       "      <td>70000</td>\n",
       "      <td>Petrol</td>\n",
       "      <td>Individual</td>\n",
       "      <td>Manual</td>\n",
       "      <td>First Owner</td>\n",
       "    </tr>\n",
       "    <tr>\n",
       "      <th>1</th>\n",
       "      <td>Maruti Wagon R LXI Minor</td>\n",
       "      <td>2007</td>\n",
       "      <td>135000</td>\n",
       "      <td>50000</td>\n",
       "      <td>Petrol</td>\n",
       "      <td>Individual</td>\n",
       "      <td>Manual</td>\n",
       "      <td>First Owner</td>\n",
       "    </tr>\n",
       "    <tr>\n",
       "      <th>2</th>\n",
       "      <td>Hyundai Verna 1.6 SX</td>\n",
       "      <td>2012</td>\n",
       "      <td>600000</td>\n",
       "      <td>100000</td>\n",
       "      <td>Diesel</td>\n",
       "      <td>Individual</td>\n",
       "      <td>Manual</td>\n",
       "      <td>First Owner</td>\n",
       "    </tr>\n",
       "    <tr>\n",
       "      <th>3</th>\n",
       "      <td>Datsun RediGO T Option</td>\n",
       "      <td>2017</td>\n",
       "      <td>250000</td>\n",
       "      <td>46000</td>\n",
       "      <td>Petrol</td>\n",
       "      <td>Individual</td>\n",
       "      <td>Manual</td>\n",
       "      <td>First Owner</td>\n",
       "    </tr>\n",
       "    <tr>\n",
       "      <th>4</th>\n",
       "      <td>Honda Amaze VX i-DTEC</td>\n",
       "      <td>2014</td>\n",
       "      <td>450000</td>\n",
       "      <td>141000</td>\n",
       "      <td>Diesel</td>\n",
       "      <td>Individual</td>\n",
       "      <td>Manual</td>\n",
       "      <td>Second Owner</td>\n",
       "    </tr>\n",
       "  </tbody>\n",
       "</table>\n",
       "</div>"
      ],
      "text/plain": [
       "                       name  year  selling_price  km_driven    fuel  \\\n",
       "0             Maruti 800 AC  2007          60000      70000  Petrol   \n",
       "1  Maruti Wagon R LXI Minor  2007         135000      50000  Petrol   \n",
       "2      Hyundai Verna 1.6 SX  2012         600000     100000  Diesel   \n",
       "3    Datsun RediGO T Option  2017         250000      46000  Petrol   \n",
       "4     Honda Amaze VX i-DTEC  2014         450000     141000  Diesel   \n",
       "\n",
       "  seller_type transmission         owner  \n",
       "0  Individual       Manual   First Owner  \n",
       "1  Individual       Manual   First Owner  \n",
       "2  Individual       Manual   First Owner  \n",
       "3  Individual       Manual   First Owner  \n",
       "4  Individual       Manual  Second Owner  "
      ]
     },
     "execution_count": 45,
     "metadata": {},
     "output_type": "execute_result"
    }
   ],
   "source": [
    "# Load the dataset\n",
    "df = pd.read_csv('CAR DETAILS.csv')\n",
    "df.head()"
   ]
  },
  {
   "cell_type": "code",
   "execution_count": null,
   "id": "be2a2e9d-41b2-4f44-a281-4e289919ee2f",
   "metadata": {},
   "outputs": [],
   "source": []
  },
  {
   "cell_type": "code",
   "execution_count": 46,
   "id": "0402b4d0-fc31-4176-9362-a16ca5868a05",
   "metadata": {},
   "outputs": [
    {
     "data": {
      "text/plain": [
       "(4340, 8)"
      ]
     },
     "execution_count": 46,
     "metadata": {},
     "output_type": "execute_result"
    }
   ],
   "source": [
    "df.shape"
   ]
  },
  {
   "cell_type": "code",
   "execution_count": 47,
   "id": "78be9502-6041-4ccc-a4e6-18648e298810",
   "metadata": {},
   "outputs": [
    {
     "data": {
      "text/plain": [
       "name             0\n",
       "year             0\n",
       "selling_price    0\n",
       "km_driven        0\n",
       "fuel             0\n",
       "seller_type      0\n",
       "transmission     0\n",
       "owner            0\n",
       "dtype: int64"
      ]
     },
     "execution_count": 47,
     "metadata": {},
     "output_type": "execute_result"
    }
   ],
   "source": [
    "df.isnull().sum()"
   ]
  },
  {
   "cell_type": "code",
   "execution_count": 48,
   "id": "a8d6bf6d-5fea-4189-bd14-c247165df188",
   "metadata": {},
   "outputs": [
    {
     "data": {
      "text/plain": [
       "name             object\n",
       "year              int64\n",
       "selling_price     int64\n",
       "km_driven         int64\n",
       "fuel             object\n",
       "seller_type      object\n",
       "transmission     object\n",
       "owner            object\n",
       "dtype: object"
      ]
     },
     "execution_count": 48,
     "metadata": {},
     "output_type": "execute_result"
    }
   ],
   "source": [
    "df.dtypes"
   ]
  },
  {
   "cell_type": "code",
   "execution_count": 49,
   "id": "4dbdb3b4-291f-44dc-87ad-d119e8fbc553",
   "metadata": {},
   "outputs": [
    {
     "data": {
      "text/plain": [
       "Index(['name', 'year', 'selling_price', 'km_driven', 'fuel', 'seller_type',\n",
       "       'transmission', 'owner'],\n",
       "      dtype='object')"
      ]
     },
     "execution_count": 49,
     "metadata": {},
     "output_type": "execute_result"
    }
   ],
   "source": [
    "df.columns"
   ]
  },
  {
   "cell_type": "code",
   "execution_count": 50,
   "id": "10d46b18-f781-4021-b94d-37f0b9db3f24",
   "metadata": {},
   "outputs": [],
   "source": [
    "#df['year'].value_counts()  # 1992 to 2020"
   ]
  },
  {
   "cell_type": "code",
   "execution_count": 51,
   "id": "12ad0f46-bc9e-4d90-9fe0-d1da5eaaed7c",
   "metadata": {},
   "outputs": [
    {
     "data": {
      "text/plain": [
       "First Owner             2832\n",
       "Second Owner            1106\n",
       "Third Owner              304\n",
       "Fourth & Above Owner      81\n",
       "Test Drive Car            17\n",
       "Name: owner, dtype: int64"
      ]
     },
     "execution_count": 51,
     "metadata": {},
     "output_type": "execute_result"
    }
   ],
   "source": [
    "df['owner'].value_counts()"
   ]
  },
  {
   "cell_type": "code",
   "execution_count": 52,
   "id": "9feb1afd-7a75-46f9-93e7-cf8a3675ef8d",
   "metadata": {},
   "outputs": [
    {
     "data": {
      "text/plain": [
       "Manual       3892\n",
       "Automatic     448\n",
       "Name: transmission, dtype: int64"
      ]
     },
     "execution_count": 52,
     "metadata": {},
     "output_type": "execute_result"
    }
   ],
   "source": [
    "df['transmission'].value_counts()"
   ]
  },
  {
   "cell_type": "code",
   "execution_count": 53,
   "id": "c691bea6-a5ae-4001-bf67-216937121000",
   "metadata": {},
   "outputs": [
    {
     "data": {
      "text/plain": [
       "Individual          3244\n",
       "Dealer               994\n",
       "Trustmark Dealer     102\n",
       "Name: seller_type, dtype: int64"
      ]
     },
     "execution_count": 53,
     "metadata": {},
     "output_type": "execute_result"
    }
   ],
   "source": [
    "df['seller_type'].value_counts()     "
   ]
  },
  {
   "cell_type": "code",
   "execution_count": 54,
   "id": "3b1a614b-804c-4e2d-963d-e783a62499e7",
   "metadata": {},
   "outputs": [
    {
     "data": {
      "text/plain": [
       "Diesel      2153\n",
       "Petrol      2123\n",
       "CNG           40\n",
       "LPG           23\n",
       "Electric       1\n",
       "Name: fuel, dtype: int64"
      ]
     },
     "execution_count": 54,
     "metadata": {},
     "output_type": "execute_result"
    }
   ],
   "source": [
    "df['fuel'].value_counts()     "
   ]
  },
  {
   "cell_type": "code",
   "execution_count": 55,
   "id": "05ef3bdb-894d-4582-a7ef-41ffb0018ce3",
   "metadata": {},
   "outputs": [
    {
     "data": {
      "text/plain": [
       "70000     236\n",
       "80000     228\n",
       "50000     222\n",
       "120000    220\n",
       "60000     215\n",
       "         ... \n",
       "85036       1\n",
       "105546      1\n",
       "60516       1\n",
       "52328       1\n",
       "10211       1\n",
       "Name: km_driven, Length: 770, dtype: int64"
      ]
     },
     "execution_count": 55,
     "metadata": {},
     "output_type": "execute_result"
    }
   ],
   "source": [
    "df['km_driven'].value_counts()     "
   ]
  },
  {
   "cell_type": "code",
   "execution_count": 56,
   "id": "f03a037f-599e-42c8-a0b9-d8b6a9201b36",
   "metadata": {},
   "outputs": [
    {
     "data": {
      "text/plain": [
       "300000    162\n",
       "250000    125\n",
       "350000    122\n",
       "550000    107\n",
       "600000    103\n",
       "         ... \n",
       "149000      1\n",
       "321000      1\n",
       "628000      1\n",
       "841000      1\n",
       "213000      1\n",
       "Name: selling_price, Length: 445, dtype: int64"
      ]
     },
     "execution_count": 56,
     "metadata": {},
     "output_type": "execute_result"
    }
   ],
   "source": [
    "df['selling_price'].value_counts()     "
   ]
  },
  {
   "cell_type": "code",
   "execution_count": 57,
   "id": "c5beaf54-5baa-4c75-bad1-2b3b6a2c79dd",
   "metadata": {},
   "outputs": [
    {
     "data": {
      "text/plain": [
       "Maruti Swift Dzire VDI           69\n",
       "Maruti Alto 800 LXI              59\n",
       "Maruti Alto LXi                  47\n",
       "Maruti Alto LX                   35\n",
       "Hyundai EON Era Plus             35\n",
       "                                 ..\n",
       "Tata Sumo SE Plus BSIII           1\n",
       "Toyota Corolla Executive (HE)     1\n",
       "Audi Q5 2.0 TFSI Quattro          1\n",
       "Skoda Rapid 1.5 TDI Elegance      1\n",
       "Honda Jazz V                      1\n",
       "Name: name, Length: 1491, dtype: int64"
      ]
     },
     "execution_count": 57,
     "metadata": {},
     "output_type": "execute_result"
    }
   ],
   "source": [
    "df['name'].value_counts()     "
   ]
  },
  {
   "cell_type": "code",
   "execution_count": 58,
   "id": "26eb7e15-be5f-4281-b440-eae0ffd3ffdd",
   "metadata": {},
   "outputs": [
    {
     "name": "stdout",
     "output_type": "stream",
     "text": [
      "<class 'pandas.core.frame.DataFrame'>\n",
      "RangeIndex: 4340 entries, 0 to 4339\n",
      "Data columns (total 8 columns):\n",
      " #   Column         Non-Null Count  Dtype \n",
      "---  ------         --------------  ----- \n",
      " 0   name           4340 non-null   object\n",
      " 1   year           4340 non-null   int64 \n",
      " 2   selling_price  4340 non-null   int64 \n",
      " 3   km_driven      4340 non-null   int64 \n",
      " 4   fuel           4340 non-null   object\n",
      " 5   seller_type    4340 non-null   object\n",
      " 6   transmission   4340 non-null   object\n",
      " 7   owner          4340 non-null   object\n",
      "dtypes: int64(3), object(5)\n",
      "memory usage: 271.4+ KB\n"
     ]
    }
   ],
   "source": [
    "df.info()"
   ]
  },
  {
   "cell_type": "code",
   "execution_count": 59,
   "id": "960a6edc-fddf-4fd3-8935-f6ca6404c2ac",
   "metadata": {},
   "outputs": [
    {
     "data": {
      "text/html": [
       "<div>\n",
       "<style scoped>\n",
       "    .dataframe tbody tr th:only-of-type {\n",
       "        vertical-align: middle;\n",
       "    }\n",
       "\n",
       "    .dataframe tbody tr th {\n",
       "        vertical-align: top;\n",
       "    }\n",
       "\n",
       "    .dataframe thead th {\n",
       "        text-align: right;\n",
       "    }\n",
       "</style>\n",
       "<table border=\"1\" class=\"dataframe\">\n",
       "  <thead>\n",
       "    <tr style=\"text-align: right;\">\n",
       "      <th></th>\n",
       "      <th>year</th>\n",
       "      <th>selling_price</th>\n",
       "      <th>km_driven</th>\n",
       "    </tr>\n",
       "  </thead>\n",
       "  <tbody>\n",
       "    <tr>\n",
       "      <th>count</th>\n",
       "      <td>4340.000000</td>\n",
       "      <td>4.340000e+03</td>\n",
       "      <td>4340.000000</td>\n",
       "    </tr>\n",
       "    <tr>\n",
       "      <th>mean</th>\n",
       "      <td>2013.090783</td>\n",
       "      <td>5.041273e+05</td>\n",
       "      <td>66215.777419</td>\n",
       "    </tr>\n",
       "    <tr>\n",
       "      <th>std</th>\n",
       "      <td>4.215344</td>\n",
       "      <td>5.785487e+05</td>\n",
       "      <td>46644.102194</td>\n",
       "    </tr>\n",
       "    <tr>\n",
       "      <th>min</th>\n",
       "      <td>1992.000000</td>\n",
       "      <td>2.000000e+04</td>\n",
       "      <td>1.000000</td>\n",
       "    </tr>\n",
       "    <tr>\n",
       "      <th>25%</th>\n",
       "      <td>2011.000000</td>\n",
       "      <td>2.087498e+05</td>\n",
       "      <td>35000.000000</td>\n",
       "    </tr>\n",
       "    <tr>\n",
       "      <th>50%</th>\n",
       "      <td>2014.000000</td>\n",
       "      <td>3.500000e+05</td>\n",
       "      <td>60000.000000</td>\n",
       "    </tr>\n",
       "    <tr>\n",
       "      <th>75%</th>\n",
       "      <td>2016.000000</td>\n",
       "      <td>6.000000e+05</td>\n",
       "      <td>90000.000000</td>\n",
       "    </tr>\n",
       "    <tr>\n",
       "      <th>max</th>\n",
       "      <td>2020.000000</td>\n",
       "      <td>8.900000e+06</td>\n",
       "      <td>806599.000000</td>\n",
       "    </tr>\n",
       "  </tbody>\n",
       "</table>\n",
       "</div>"
      ],
      "text/plain": [
       "              year  selling_price      km_driven\n",
       "count  4340.000000   4.340000e+03    4340.000000\n",
       "mean   2013.090783   5.041273e+05   66215.777419\n",
       "std       4.215344   5.785487e+05   46644.102194\n",
       "min    1992.000000   2.000000e+04       1.000000\n",
       "25%    2011.000000   2.087498e+05   35000.000000\n",
       "50%    2014.000000   3.500000e+05   60000.000000\n",
       "75%    2016.000000   6.000000e+05   90000.000000\n",
       "max    2020.000000   8.900000e+06  806599.000000"
      ]
     },
     "execution_count": 59,
     "metadata": {},
     "output_type": "execute_result"
    }
   ],
   "source": [
    "#df.describe(include='all')\n",
    "df.describe()"
   ]
  },
  {
   "cell_type": "code",
   "execution_count": 60,
   "id": "9b6ee479-b498-4cd3-84a9-77151a17ebc8",
   "metadata": {},
   "outputs": [
    {
     "name": "stdout",
     "output_type": "stream",
     "text": [
      "                                     name Model_Name\n",
      "0                           Maruti 800 AC     Maruti\n",
      "1                Maruti Wagon R LXI Minor     Maruti\n",
      "2                    Hyundai Verna 1.6 SX    Hyundai\n",
      "3                  Datsun RediGO T Option     Datsun\n",
      "4                   Honda Amaze VX i-DTEC      Honda\n",
      "...                                   ...        ...\n",
      "4335  Hyundai i20 Magna 1.4 CRDi (Diesel)    Hyundai\n",
      "4336           Hyundai i20 Magna 1.4 CRDi    Hyundai\n",
      "4337                  Maruti 800 AC BSIII     Maruti\n",
      "4338     Hyundai Creta 1.6 CRDi SX Option    Hyundai\n",
      "4339                     Renault KWID RXT    Renault\n",
      "\n",
      "[4340 rows x 2 columns]\n"
     ]
    }
   ],
   "source": [
    "# Extract the first name from the 'Name' column\n",
    "df['Model_Name'] = df['name'].str.split().str.get(0)\n",
    "\n",
    "# Display the DataFrame with the new 'First Name' column\n",
    "print(df[['name', 'Model_Name']])"
   ]
  },
  {
   "cell_type": "code",
   "execution_count": 61,
   "id": "2827355e-d011-4e0c-babf-40e0f9458519",
   "metadata": {},
   "outputs": [],
   "source": [
    "#df.drop('First Name',axis=1,inplace=True)"
   ]
  },
  {
   "cell_type": "code",
   "execution_count": 62,
   "id": "81e067a0-2800-4358-b739-36238530107f",
   "metadata": {},
   "outputs": [
    {
     "data": {
      "text/html": [
       "<div>\n",
       "<style scoped>\n",
       "    .dataframe tbody tr th:only-of-type {\n",
       "        vertical-align: middle;\n",
       "    }\n",
       "\n",
       "    .dataframe tbody tr th {\n",
       "        vertical-align: top;\n",
       "    }\n",
       "\n",
       "    .dataframe thead th {\n",
       "        text-align: right;\n",
       "    }\n",
       "</style>\n",
       "<table border=\"1\" class=\"dataframe\">\n",
       "  <thead>\n",
       "    <tr style=\"text-align: right;\">\n",
       "      <th></th>\n",
       "      <th>name</th>\n",
       "      <th>year</th>\n",
       "      <th>selling_price</th>\n",
       "      <th>km_driven</th>\n",
       "      <th>fuel</th>\n",
       "      <th>seller_type</th>\n",
       "      <th>transmission</th>\n",
       "      <th>owner</th>\n",
       "      <th>Model_Name</th>\n",
       "    </tr>\n",
       "  </thead>\n",
       "  <tbody>\n",
       "    <tr>\n",
       "      <th>0</th>\n",
       "      <td>Maruti 800 AC</td>\n",
       "      <td>2007</td>\n",
       "      <td>60000</td>\n",
       "      <td>70000</td>\n",
       "      <td>Petrol</td>\n",
       "      <td>Individual</td>\n",
       "      <td>Manual</td>\n",
       "      <td>First Owner</td>\n",
       "      <td>Maruti</td>\n",
       "    </tr>\n",
       "    <tr>\n",
       "      <th>1</th>\n",
       "      <td>Maruti Wagon R LXI Minor</td>\n",
       "      <td>2007</td>\n",
       "      <td>135000</td>\n",
       "      <td>50000</td>\n",
       "      <td>Petrol</td>\n",
       "      <td>Individual</td>\n",
       "      <td>Manual</td>\n",
       "      <td>First Owner</td>\n",
       "      <td>Maruti</td>\n",
       "    </tr>\n",
       "    <tr>\n",
       "      <th>2</th>\n",
       "      <td>Hyundai Verna 1.6 SX</td>\n",
       "      <td>2012</td>\n",
       "      <td>600000</td>\n",
       "      <td>100000</td>\n",
       "      <td>Diesel</td>\n",
       "      <td>Individual</td>\n",
       "      <td>Manual</td>\n",
       "      <td>First Owner</td>\n",
       "      <td>Hyundai</td>\n",
       "    </tr>\n",
       "    <tr>\n",
       "      <th>3</th>\n",
       "      <td>Datsun RediGO T Option</td>\n",
       "      <td>2017</td>\n",
       "      <td>250000</td>\n",
       "      <td>46000</td>\n",
       "      <td>Petrol</td>\n",
       "      <td>Individual</td>\n",
       "      <td>Manual</td>\n",
       "      <td>First Owner</td>\n",
       "      <td>Datsun</td>\n",
       "    </tr>\n",
       "    <tr>\n",
       "      <th>4</th>\n",
       "      <td>Honda Amaze VX i-DTEC</td>\n",
       "      <td>2014</td>\n",
       "      <td>450000</td>\n",
       "      <td>141000</td>\n",
       "      <td>Diesel</td>\n",
       "      <td>Individual</td>\n",
       "      <td>Manual</td>\n",
       "      <td>Second Owner</td>\n",
       "      <td>Honda</td>\n",
       "    </tr>\n",
       "  </tbody>\n",
       "</table>\n",
       "</div>"
      ],
      "text/plain": [
       "                       name  year  selling_price  km_driven    fuel  \\\n",
       "0             Maruti 800 AC  2007          60000      70000  Petrol   \n",
       "1  Maruti Wagon R LXI Minor  2007         135000      50000  Petrol   \n",
       "2      Hyundai Verna 1.6 SX  2012         600000     100000  Diesel   \n",
       "3    Datsun RediGO T Option  2017         250000      46000  Petrol   \n",
       "4     Honda Amaze VX i-DTEC  2014         450000     141000  Diesel   \n",
       "\n",
       "  seller_type transmission         owner Model_Name  \n",
       "0  Individual       Manual   First Owner     Maruti  \n",
       "1  Individual       Manual   First Owner     Maruti  \n",
       "2  Individual       Manual   First Owner    Hyundai  \n",
       "3  Individual       Manual   First Owner     Datsun  \n",
       "4  Individual       Manual  Second Owner      Honda  "
      ]
     },
     "execution_count": 62,
     "metadata": {},
     "output_type": "execute_result"
    }
   ],
   "source": [
    "df.head()"
   ]
  },
  {
   "cell_type": "code",
   "execution_count": 63,
   "id": "a01dd475-b329-4c02-8e16-723390ab852b",
   "metadata": {},
   "outputs": [],
   "source": [
    "df1=df.copy()  # Original dataset"
   ]
  },
  {
   "cell_type": "code",
   "execution_count": 64,
   "id": "37ff1ff2-08fe-4d98-964a-a43d7e11458b",
   "metadata": {},
   "outputs": [
    {
     "data": {
      "text/plain": [
       "Maruti           1280\n",
       "Hyundai           821\n",
       "Mahindra          365\n",
       "Tata              361\n",
       "Honda             252\n",
       "Ford              238\n",
       "Toyota            206\n",
       "Chevrolet         188\n",
       "Renault           146\n",
       "Volkswagen        107\n",
       "Skoda              68\n",
       "Nissan             64\n",
       "Audi               60\n",
       "BMW                39\n",
       "Datsun             37\n",
       "Fiat               37\n",
       "Mercedes-Benz      35\n",
       "Jaguar              6\n",
       "Mitsubishi          6\n",
       "Land                5\n",
       "Ambassador          4\n",
       "Volvo               4\n",
       "Jeep                3\n",
       "MG                  2\n",
       "OpelCorsa           2\n",
       "Isuzu               1\n",
       "Daewoo              1\n",
       "Kia                 1\n",
       "Force               1\n",
       "Name: Model_Name, dtype: int64"
      ]
     },
     "execution_count": 64,
     "metadata": {},
     "output_type": "execute_result"
    }
   ],
   "source": [
    "df1['Model_Name'].value_counts()"
   ]
  },
  {
   "cell_type": "code",
   "execution_count": 65,
   "id": "a8981cef-0d38-4ff4-bc2b-cd023b3c8ca6",
   "metadata": {},
   "outputs": [
    {
     "data": {
      "image/png": "[encoded data removed]",
      "text/plain": [
       "<Figure size 720x504 with 1 Axes>"
      ]
     },
     "metadata": {
      "needs_background": "light"
     },
     "output_type": "display_data"
    }
   ],
   "source": [
    "# Count plot the target variable\n",
    "plt.figure(figsize=(10,7))\n",
    "sns.countplot(x=df['Model_Name'])\n",
    "plt.title('Countplot of different model of Cars')\n",
    "plt.xticks(rotation=90)\n",
    "plt.xlabel('Model Name')\n",
    "plt.ylabel('Count of Cars')\n",
    "plt.grid()\n",
    "plt.show()"
   ]
  },
  {
   "cell_type": "code",
   "execution_count": 66,
   "id": "4ecf941b-5cc0-4f85-8fab-f2d3443b1933",
   "metadata": {},
   "outputs": [],
   "source": [
    "# Majority cars belongs to  Model Name - Maruti, Hyundai, Mahindra & Tata as per the dataset."
   ]
  },
  {
   "cell_type": "code",
   "execution_count": 67,
   "id": "5c58a49a-f292-4fa1-a04f-237489db63b0",
   "metadata": {},
   "outputs": [],
   "source": [
    "# Columns on which label encoding is to be done.\n",
    "cols=['fuel','seller_type','transmission','owner','Model_Name']"
   ]
  },
  {
   "cell_type": "code",
   "execution_count": 68,
   "id": "3a260b93-9385-4da9-9929-7d9b167b9a08",
   "metadata": {},
   "outputs": [
    {
     "data": {
      "text/plain": [
       "Model_Name\n",
       "Land             3.609800e+06\n",
       "BMW              2.945385e+06\n",
       "Mercedes-Benz    2.776657e+06\n",
       "Volvo            2.556250e+06\n",
       "Jaguar           2.069166e+06\n",
       "Audi             1.931633e+06\n",
       "MG               1.842500e+06\n",
       "Jeep             1.530000e+06\n",
       "Isuzu            1.500000e+06\n",
       "Kia              1.300000e+06\n",
       "Toyota           9.243592e+05\n",
       "Mitsubishi       8.400000e+05\n",
       "Mahindra         5.877095e+05\n",
       "Ford             5.712731e+05\n",
       "Honda            5.381468e+05\n",
       "Skoda            4.900147e+05\n",
       "Volkswagen       4.710373e+05\n",
       "Nissan           4.499375e+05\n",
       "Hyundai          4.199403e+05\n",
       "Renault          4.193767e+05\n",
       "Force            3.460000e+05\n",
       "Maruti           3.424163e+05\n",
       "Datsun           2.970269e+05\n",
       "Tata             2.840834e+05\n",
       "Fiat             2.834324e+05\n",
       "Chevrolet        2.367271e+05\n",
       "Ambassador       1.800000e+05\n",
       "OpelCorsa        8.850000e+04\n",
       "Daewoo           6.000000e+04\n",
       "Name: selling_price, dtype: float64"
      ]
     },
     "execution_count": 68,
     "metadata": {},
     "output_type": "execute_result"
    }
   ],
   "source": [
    "SP_model_name=df.groupby('Model_Name')['selling_price'].mean()\n",
    "SP_model_name.sort_values(ascending=False)"
   ]
  },
  {
   "cell_type": "code",
   "execution_count": 69,
   "id": "ef9616dc-9ada-4ab6-9d0e-7ca86cc73ed4",
   "metadata": {},
   "outputs": [],
   "source": [
    "from sklearn.preprocessing import LabelEncoder\n",
    "lb=LabelEncoder()"
   ]
  },
  {
   "cell_type": "code",
   "execution_count": 70,
   "id": "a083c7a7-41cd-481d-86f1-6fced776aea4",
   "metadata": {},
   "outputs": [],
   "source": [
    "for i in cols:\n",
    "    df[i]=lb.fit_transform(df[i])"
   ]
  },
  {
   "cell_type": "code",
   "execution_count": 133,
   "id": "0ca7f87f-a69b-43ec-872f-b357a915b4b3",
   "metadata": {},
   "outputs": [],
   "source": [
    "df2=df.copy()"
   ]
  },
  {
   "cell_type": "code",
   "execution_count": 134,
   "id": "54f0a404-062a-40d6-8746-25f0072ab4c8",
   "metadata": {},
   "outputs": [
    {
     "data": {
      "text/html": [
       "<div>\n",
       "<style scoped>\n",
       "    .dataframe tbody tr th:only-of-type {\n",
       "        vertical-align: middle;\n",
       "    }\n",
       "\n",
       "    .dataframe tbody tr th {\n",
       "        vertical-align: top;\n",
       "    }\n",
       "\n",
       "    .dataframe thead th {\n",
       "        text-align: right;\n",
       "    }\n",
       "</style>\n",
       "<table border=\"1\" class=\"dataframe\">\n",
       "  <thead>\n",
       "    <tr style=\"text-align: right;\">\n",
       "      <th></th>\n",
       "      <th>name</th>\n",
       "      <th>year</th>\n",
       "      <th>selling_price</th>\n",
       "      <th>km_driven</th>\n",
       "      <th>fuel</th>\n",
       "      <th>seller_type</th>\n",
       "      <th>transmission</th>\n",
       "      <th>owner</th>\n",
       "      <th>Model_Name</th>\n",
       "    </tr>\n",
       "  </thead>\n",
       "  <tbody>\n",
       "    <tr>\n",
       "      <th>0</th>\n",
       "      <td>Maruti 800 AC</td>\n",
       "      <td>2007</td>\n",
       "      <td>60000</td>\n",
       "      <td>70000</td>\n",
       "      <td>4</td>\n",
       "      <td>1</td>\n",
       "      <td>1</td>\n",
       "      <td>0</td>\n",
       "      <td>18</td>\n",
       "    </tr>\n",
       "    <tr>\n",
       "      <th>1</th>\n",
       "      <td>Maruti Wagon R LXI Minor</td>\n",
       "      <td>2007</td>\n",
       "      <td>135000</td>\n",
       "      <td>50000</td>\n",
       "      <td>4</td>\n",
       "      <td>1</td>\n",
       "      <td>1</td>\n",
       "      <td>0</td>\n",
       "      <td>18</td>\n",
       "    </tr>\n",
       "    <tr>\n",
       "      <th>2</th>\n",
       "      <td>Hyundai Verna 1.6 SX</td>\n",
       "      <td>2012</td>\n",
       "      <td>600000</td>\n",
       "      <td>100000</td>\n",
       "      <td>1</td>\n",
       "      <td>1</td>\n",
       "      <td>1</td>\n",
       "      <td>0</td>\n",
       "      <td>10</td>\n",
       "    </tr>\n",
       "    <tr>\n",
       "      <th>3</th>\n",
       "      <td>Datsun RediGO T Option</td>\n",
       "      <td>2017</td>\n",
       "      <td>250000</td>\n",
       "      <td>46000</td>\n",
       "      <td>4</td>\n",
       "      <td>1</td>\n",
       "      <td>1</td>\n",
       "      <td>0</td>\n",
       "      <td>5</td>\n",
       "    </tr>\n",
       "    <tr>\n",
       "      <th>4</th>\n",
       "      <td>Honda Amaze VX i-DTEC</td>\n",
       "      <td>2014</td>\n",
       "      <td>450000</td>\n",
       "      <td>141000</td>\n",
       "      <td>1</td>\n",
       "      <td>1</td>\n",
       "      <td>1</td>\n",
       "      <td>2</td>\n",
       "      <td>9</td>\n",
       "    </tr>\n",
       "  </tbody>\n",
       "</table>\n",
       "</div>"
      ],
      "text/plain": [
       "                       name  year  selling_price  km_driven  fuel  \\\n",
       "0             Maruti 800 AC  2007          60000      70000     4   \n",
       "1  Maruti Wagon R LXI Minor  2007         135000      50000     4   \n",
       "2      Hyundai Verna 1.6 SX  2012         600000     100000     1   \n",
       "3    Datsun RediGO T Option  2017         250000      46000     4   \n",
       "4     Honda Amaze VX i-DTEC  2014         450000     141000     1   \n",
       "\n",
       "   seller_type  transmission  owner  Model_Name  \n",
       "0            1             1      0          18  \n",
       "1            1             1      0          18  \n",
       "2            1             1      0          10  \n",
       "3            1             1      0           5  \n",
       "4            1             1      2           9  "
      ]
     },
     "execution_count": 134,
     "metadata": {},
     "output_type": "execute_result"
    }
   ],
   "source": [
    "df.head()"
   ]
  },
  {
   "cell_type": "code",
   "execution_count": 135,
   "id": "09dd08ad-c49b-4fb6-b2bb-7b2b8edfbac4",
   "metadata": {},
   "outputs": [],
   "source": [
    "# Saving the processed dataset\n",
    "df2.to_csv('Processed_Car_dataset.csv',index=False)"
   ]
  },
  {
   "cell_type": "code",
   "execution_count": 72,
   "id": "34971d3b-6c9f-4560-843b-584ff12c012a",
   "metadata": {},
   "outputs": [
    {
     "data": {
      "image/png": "[encoded data removed]",
      "text/plain": [
       "<Figure size 360x288 with 1 Axes>"
      ]
     },
     "metadata": {
      "needs_background": "light"
     },
     "output_type": "display_data"
    }
   ],
   "source": [
    "plt.figure(figsize =(5,4))\n",
    " \n",
    "# Creating plot\n",
    "plt.boxplot(df['selling_price'])\n",
    " \n",
    "# show plot\n",
    "plt.show()"
   ]
  },
  {
   "cell_type": "code",
   "execution_count": 73,
   "id": "3dc2fbb6-61ee-4d8d-a941-e5e511e92f10",
   "metadata": {},
   "outputs": [
    {
     "data": {
      "image/png": "[encoded data removed]",
      "text/plain": [
       "<Figure size 360x288 with 1 Axes>"
      ]
     },
     "metadata": {
      "needs_background": "light"
     },
     "output_type": "display_data"
    }
   ],
   "source": [
    "plt.figure(figsize =(5,4))  \n",
    " \n",
    "# Creating plot\n",
    "plt.boxplot(df['km_driven'])\n",
    " \n",
    "# show plot\n",
    "plt.show()"
   ]
  },
  {
   "cell_type": "code",
   "execution_count": 74,
   "id": "32d178b1-621b-4db5-a5af-8cc3f4374745",
   "metadata": {},
   "outputs": [
    {
     "data": {
      "image/png": "[encoded data removed]",
      "text/plain": [
       "<Figure size 720x504 with 1 Axes>"
      ]
     },
     "metadata": {
      "needs_background": "light"
     },
     "output_type": "display_data"
    }
   ],
   "source": [
    "plt.figure(figsize =(10,7))\n",
    "plt.scatter(df['year'],df['selling_price'],color='orange', label='Actual data')\n",
    "plt.title('selling_price vs year - Scatter plot')\n",
    "plt.xlabel('year')\n",
    "plt.ylabel('selling_price')\n",
    "plt.legend()\n",
    "plt.grid()\n",
    "plt.show()"
   ]
  },
  {
   "cell_type": "code",
   "execution_count": 75,
   "id": "0ee10cae-b459-4440-adb3-f2fd6a2d158e",
   "metadata": {},
   "outputs": [],
   "source": [
    "# Min-max scaling is generally sensitive to outliers, \n",
    "# Here it is clearly visible that data contains outliers \n",
    "# Hence, standard scaling is a more robust choice."
   ]
  },
  {
   "cell_type": "code",
   "execution_count": 76,
   "id": "84e80ea8-a807-4601-9299-ac1b398441b8",
   "metadata": {},
   "outputs": [],
   "source": [
    "# Columns to be dropped from features (X)\n",
    "col_drop=['name','selling_price']"
   ]
  },
  {
   "cell_type": "code",
   "execution_count": 77,
   "id": "f8f683d7-abe3-438a-bb9b-d8b9c62973fa",
   "metadata": {},
   "outputs": [
    {
     "name": "stdout",
     "output_type": "stream",
     "text": [
      "(4340, 7)\n",
      "(4340,)\n",
      "<class 'pandas.core.frame.DataFrame'>\n",
      "<class 'pandas.core.series.Series'>\n"
     ]
    }
   ],
   "source": [
    "# Split the dataset into features (X) and the target variable (y)\n",
    "\n",
    "X = df.drop(col_drop,axis=1)\n",
    "y = df['selling_price']\n",
    "print(X.shape)\n",
    "print(y.shape)\n",
    "print(type(X))\n",
    "print(type(y))"
   ]
  },
  {
   "cell_type": "code",
   "execution_count": 78,
   "id": "752a7173-4d41-41ed-a751-3fae3139eed2",
   "metadata": {},
   "outputs": [],
   "source": [
    "# Standardize the features using Standard Scaling from sklearn preprocessing library\n",
    "from sklearn.preprocessing import StandardScaler\n",
    "scaler = StandardScaler()\n",
    "X_scaled = scaler.fit_transform(X)"
   ]
  },
  {
   "cell_type": "code",
   "execution_count": null,
   "id": "6ff60af7-cb86-4d55-b072-51d546cddf03",
   "metadata": {},
   "outputs": [],
   "source": [
    "#print(X_scaled)\n",
    "!pip install -U scikit-learn"
   ]
  },
  {
   "cell_type": "code",
   "execution_count": 80,
   "id": "98de3f9e-f68a-45fb-9d8f-7f50ca01c251",
   "metadata": {},
   "outputs": [],
   "source": [
    "# Importing train_test_split from sklearn.model_selection\n",
    "from sklearn.model_selection import train_test_split"
   ]
  },
  {
   "cell_type": "code",
   "execution_count": 81,
   "id": "5ceb873b-fc95-4b69-be19-e59607c032ee",
   "metadata": {},
   "outputs": [],
   "source": [
    "# Splitting the Dataset in to training dataset(75%) and test dataset(25%)\n",
    "X_train, X_test, y_train, y_test = train_test_split(X_scaled, y, test_size=0.25, random_state=42)"
   ]
  },
  {
   "cell_type": "code",
   "execution_count": 82,
   "id": "6bcbccc7-7d1d-40b6-bfc6-256592a87da6",
   "metadata": {},
   "outputs": [],
   "source": [
    "from sklearn.linear_model import LinearRegression, Lasso, Ridge\n",
    "from sklearn.neighbors import KNeighborsRegressor\n",
    "from sklearn.tree import DecisionTreeRegressor\n",
    "from sklearn.ensemble import RandomForestRegressor\n",
    "from sklearn.ensemble import BaggingRegressor\n",
    "from sklearn.ensemble import AdaBoostRegressor"
   ]
  },
  {
   "cell_type": "code",
   "execution_count": 83,
   "id": "d4a670dd-711f-42d4-b9a7-24fd33c2f5ca",
   "metadata": {},
   "outputs": [],
   "source": [
    "from sklearn.metrics import mean_squared_error,mean_absolute_error,r2_score\n",
    "\n",
    "# Creating a function to generate Regression Metrics\n",
    "\n",
    "def reg_eval_metrics(y_train, ypred): \n",
    "    mae = mean_absolute_error(y_train, ypred)\n",
    "    mse = mean_squared_error(y_train, ypred)\n",
    "    rmse = np.sqrt(mse)\n",
    "    r2 = r2_score(y_train, ypred)\n",
    "    print(\"MAE:\", mae)\n",
    "    print(\"MSE:\", mse)\n",
    "    print(\"RMSE:\", rmse)\n",
    "    print(\"R2 Score:\", r2)\n",
    "\n",
    "def train_test_scr(model):\n",
    "    print('Training Score',model.score(X_train,y_train))  # R2 score for Training data\n",
    "    print('Testing Score',model.score(X_test,y_test))     # R2 score for test data\n"
   ]
  },
  {
   "cell_type": "code",
   "execution_count": 84,
   "id": "c5a962a9-7124-44eb-98b5-ba94be6fb303",
   "metadata": {},
   "outputs": [],
   "source": [
    "# Initialize and train the Regressors algorithms \n",
    "regressors = {\n",
    "    'Linear Regression': LinearRegression(),\n",
    "    'Lasso Regression': Lasso(),\n",
    "    'Ridge Regression': Ridge(),\n",
    "    'KNN Regression': KNeighborsRegressor(n_neighbors=11),\n",
    "    'Decision Tree Regression': DecisionTreeRegressor(max_depth=5),\n",
    "    'RandomForest Regression': RandomForestRegressor(n_estimators=100, random_state=42),\n",
    "    'Bagging_DT Regression': BaggingRegressor(DecisionTreeRegressor(max_depth=5), n_estimators=20, random_state=42),\n",
    "    'Bagging_LR Regression': BaggingRegressor(LinearRegression(), n_estimators=20, random_state=42),\n",
    "    'AdaBoost_DT Regression': AdaBoostRegressor(DecisionTreeRegressor(max_depth=5), n_estimators=50, random_state=42)\n",
    "}"
   ]
  },
  {
   "cell_type": "code",
   "execution_count": 87,
   "id": "b16c20c9-8729-4917-80cd-2941f91fce71",
   "metadata": {},
   "outputs": [
    {
     "name": "stdout",
     "output_type": "stream",
     "text": [
      "Training : Linear Regression\n",
      "Predicting using : Linear Regression\n",
      "MAE: 219781.77047399536\n",
      "MSE: 175609824200.40945\n",
      "RMSE: 419058.25871877227\n",
      "R2 Score: 0.41913019148345276\n",
      "Training Score 0.46016553265062554\n",
      "Testing Score 0.41913019148345276\n",
      "\n",
      "Training : Lasso Regression\n",
      "Predicting using : Lasso Regression\n",
      "MAE: 219781.4615175614\n",
      "MSE: 175609765849.23618\n",
      "RMSE: 419058.18909697514\n",
      "R2 Score: 0.41913038449335416\n",
      "Training Score 0.46016553263199667\n",
      "Testing Score 0.41913038449335416\n",
      "\n",
      "Training : Ridge Regression\n",
      "Predicting using : Ridge Regression\n",
      "MAE: 219760.09131871743\n",
      "MSE: 175603576153.6826\n",
      "RMSE: 419050.80378598796\n",
      "R2 Score: 0.4191508583323741\n",
      "Training Score 0.46016550308269755\n",
      "Testing Score 0.4191508583323741\n",
      "\n",
      "Training : KNN Regression\n",
      "Predicting using : KNN Regression\n",
      "MAE: 164787.86669459572\n",
      "MSE: 138611071657.6578\n",
      "RMSE: 372305.0787427668\n",
      "R2 Score: 0.5415120593699144\n",
      "Training Score 0.7388627504326433\n",
      "Testing Score 0.5415120593699144\n",
      "\n",
      "Training : Decision Tree Regression\n",
      "Predicting using : Decision Tree Regression\n",
      "MAE: 176389.82180151806\n",
      "MSE: 138923130274.4475\n",
      "RMSE: 372723.9330582992\n",
      "R2 Score: 0.5404798538551836\n",
      "Training Score 0.7348942129480498\n",
      "Testing Score 0.5404798538551836\n",
      "\n",
      "Training : RandomForest Regression\n",
      "Predicting using : RandomForest Regression\n",
      "MAE: 131227.17089934926\n",
      "MSE: 102479482529.5328\n",
      "RMSE: 320124.1673624983\n",
      "R2 Score: 0.6610255851866755\n",
      "Training Score 0.9618763549801025\n",
      "Testing Score 0.6610255851866755\n",
      "\n",
      "Training : Bagging_DT Regression\n",
      "Predicting using : Bagging_DT Regression\n",
      "MAE: 171005.7249936269\n",
      "MSE: 131165122838.98842\n",
      "RMSE: 362167.25809905626\n",
      "R2 Score: 0.566141244463731\n",
      "Training Score 0.7712226955396926\n",
      "Testing Score 0.566141244463731\n",
      "\n",
      "Training : Bagging_LR Regression\n",
      "Predicting using : Bagging_LR Regression\n",
      "MAE: 221446.94289250043\n",
      "MSE: 176062669301.81497\n",
      "RMSE: 419598.22366379836\n",
      "R2 Score: 0.41763230235032034\n",
      "Training Score 0.460034681560755\n",
      "Testing Score 0.41763230235032034\n",
      "\n",
      "Training : AdaBoost_DT Regression\n",
      "Predicting using : AdaBoost_DT Regression\n",
      "MAE: 221358.67116560467\n",
      "MSE: 117202858517.63135\n",
      "RMSE: 342349.0302565955\n",
      "R2 Score: 0.6123246390416365\n",
      "Training Score 0.8186872565156958\n",
      "Testing Score 0.6123246390416365\n",
      "\n"
     ]
    }
   ],
   "source": [
    "# Fitting various classification algorithm on the training data \n",
    "# Evaluating the model using Model evaluation techniques like(MSE,RMSE,MAE,R2 Score, Model Score )\n",
    "model=[]\n",
    "results = {}\n",
    "for reg_name, reg in regressors.items():\n",
    "    m=reg.fit(X_train, y_train)\n",
    "    print(\"Training :\",reg_name)\n",
    "    ypred = reg.predict(X_test)\n",
    "    print(\"Predicting using :\",reg_name)\n",
    "    reg_eval_metrics(y_test,ypred) \n",
    "    train_test_scr(m)\n",
    "   # model_coeff(m)\n",
    "    results[reg_name] = m.score(X_test, y_test)\n",
    "    model.append(m)\n",
    "    print(\"\")"
   ]
  },
  {
   "cell_type": "code",
   "execution_count": 88,
   "id": "56b5ea07-a8c1-482d-86c6-c850b91a9e61",
   "metadata": {},
   "outputs": [
    {
     "name": "stdout",
     "output_type": "stream",
     "text": [
      "{'Linear Regression': 0.41913019148345276, 'Lasso Regression': 0.41913038449335416, 'Ridge Regression': 0.4191508583323741, 'KNN Regression': 0.5415120593699144, 'Decision Tree Regression': 0.5404798538551836, 'RandomForest Regression': 0.6610255851866755, 'Bagging_DT Regression': 0.566141244463731, 'Bagging_LR Regression': 0.41763230235032034, 'AdaBoost_DT Regression': 0.6123246390416365}\n"
     ]
    }
   ],
   "source": [
    "print(results)"
   ]
  },
  {
   "cell_type": "code",
   "execution_count": 89,
   "id": "900c8e90-94d7-4294-9855-166b23a49414",
   "metadata": {},
   "outputs": [
    {
     "name": "stdout",
     "output_type": "stream",
     "text": [
      "[LinearRegression(), Lasso(), Ridge(), KNeighborsRegressor(n_neighbors=11), DecisionTreeRegressor(max_depth=5), RandomForestRegressor(random_state=42), BaggingRegressor(estimator=DecisionTreeRegressor(max_depth=5), n_estimators=20,\n",
      "                 random_state=42), BaggingRegressor(estimator=LinearRegression(), n_estimators=20, random_state=42), AdaBoostRegressor(estimator=DecisionTreeRegressor(max_depth=5), random_state=42)]\n"
     ]
    }
   ],
   "source": [
    "print(model)"
   ]
  },
  {
   "cell_type": "code",
   "execution_count": 90,
   "id": "8442a09a-9fd1-4b2c-a25b-fb11c2e82acb",
   "metadata": {},
   "outputs": [
    {
     "data": {
      "text/html": [
       "<div>\n",
       "<style scoped>\n",
       "    .dataframe tbody tr th:only-of-type {\n",
       "        vertical-align: middle;\n",
       "    }\n",
       "\n",
       "    .dataframe tbody tr th {\n",
       "        vertical-align: top;\n",
       "    }\n",
       "\n",
       "    .dataframe thead th {\n",
       "        text-align: right;\n",
       "    }\n",
       "</style>\n",
       "<table border=\"1\" class=\"dataframe\">\n",
       "  <thead>\n",
       "    <tr style=\"text-align: right;\">\n",
       "      <th></th>\n",
       "      <th>R2_Score</th>\n",
       "    </tr>\n",
       "  </thead>\n",
       "  <tbody>\n",
       "    <tr>\n",
       "      <th>Linear Regression</th>\n",
       "      <td>0.419130</td>\n",
       "    </tr>\n",
       "    <tr>\n",
       "      <th>Lasso Regression</th>\n",
       "      <td>0.419130</td>\n",
       "    </tr>\n",
       "    <tr>\n",
       "      <th>Ridge Regression</th>\n",
       "      <td>0.419151</td>\n",
       "    </tr>\n",
       "    <tr>\n",
       "      <th>KNN Regression</th>\n",
       "      <td>0.541512</td>\n",
       "    </tr>\n",
       "    <tr>\n",
       "      <th>Decision Tree Regression</th>\n",
       "      <td>0.540480</td>\n",
       "    </tr>\n",
       "    <tr>\n",
       "      <th>RandomForest Regression</th>\n",
       "      <td>0.661026</td>\n",
       "    </tr>\n",
       "    <tr>\n",
       "      <th>Bagging_DT Regression</th>\n",
       "      <td>0.566141</td>\n",
       "    </tr>\n",
       "    <tr>\n",
       "      <th>Bagging_LR Regression</th>\n",
       "      <td>0.417632</td>\n",
       "    </tr>\n",
       "    <tr>\n",
       "      <th>AdaBoost_DT Regression</th>\n",
       "      <td>0.612325</td>\n",
       "    </tr>\n",
       "  </tbody>\n",
       "</table>\n",
       "</div>"
      ],
      "text/plain": [
       "                          R2_Score\n",
       "Linear Regression         0.419130\n",
       "Lasso Regression          0.419130\n",
       "Ridge Regression          0.419151\n",
       "KNN Regression            0.541512\n",
       "Decision Tree Regression  0.540480\n",
       "RandomForest Regression   0.661026\n",
       "Bagging_DT Regression     0.566141\n",
       "Bagging_LR Regression     0.417632\n",
       "AdaBoost_DT Regression    0.612325"
      ]
     },
     "execution_count": 90,
     "metadata": {},
     "output_type": "execute_result"
    }
   ],
   "source": [
    "# Consolidated Report of Classifiers with their Accuracy\n",
    "res = pd.DataFrame(results,index=['R2_Score'])\n",
    "res.T # T indicates Transpose"
   ]
  },
  {
   "cell_type": "code",
   "execution_count": 91,
   "id": "7244f79b-1516-4ce6-a7a2-c10cf8cd3a75",
   "metadata": {},
   "outputs": [
    {
     "name": "stdout",
     "output_type": "stream",
     "text": [
      "The best model is: RandomForest Regression with R2 score: 0.6610255851866755\n"
     ]
    }
   ],
   "source": [
    "# Find the best model\n",
    "best_model = max(results, key=results.get)\n",
    "\n",
    "print(f\"The best model is: {best_model} with R2 score: {results[best_model]}\")"
   ]
  },
  {
   "cell_type": "code",
   "execution_count": 97,
   "id": "6ec1a931-226b-467a-8480-e2a6ba49613a",
   "metadata": {},
   "outputs": [
    {
     "name": "stdout",
     "output_type": "stream",
     "text": [
      "RandomForestRegressor(random_state=42)\n"
     ]
    }
   ],
   "source": [
    "# To get the best model : RandomForestRegressor\n",
    "Best_Model=model[5]\n",
    "print(Best_Model)"
   ]
  },
  {
   "cell_type": "code",
   "execution_count": 92,
   "id": "ae578e78-5bd0-4486-8997-2936cb56e3f7",
   "metadata": {},
   "outputs": [],
   "source": [
    "def optimal_k():\n",
    "    k=list(range(3,20,2))\n",
    "    acc=[]\n",
    "    for i in range(len(k)):\n",
    "        m1 = KNeighborsRegressor(n_neighbors=k[i])\n",
    "        m1.fit(X_train, y_train)\n",
    "        acc.append(m1.score(X_test, y_test))\n",
    "    print('Accuracy \\n',acc)\n",
    "    plt.plot(k,acc,color='maroon',marker='o')\n",
    "    plt.xlabel('Num of Nearest Neighbors')\n",
    "    plt.ylabel('Test accuarcy')\n",
    "    plt.grid()\n",
    "    plt.show()"
   ]
  },
  {
   "cell_type": "code",
   "execution_count": 93,
   "id": "60dcf1bd-df44-4168-8372-065fa1574965",
   "metadata": {},
   "outputs": [
    {
     "name": "stdout",
     "output_type": "stream",
     "text": [
      "Accuracy \n",
      " [0.5210619370664403, 0.521316366326025, 0.5306173280093835, 0.5350459168421251, 0.5415120593699144, 0.5316194916367389, 0.521888863328539, 0.5155987117601624, 0.5132840039437183]\n"
     ]
    },
    {
     "data": {
      "image/png": "[encoded data removed]",
      "text/plain": [
       "<Figure size 432x288 with 1 Axes>"
      ]
     },
     "metadata": {
      "needs_background": "light"
     },
     "output_type": "display_data"
    }
   ],
   "source": [
    "optimal_k()"
   ]
  },
  {
   "cell_type": "code",
   "execution_count": 95,
   "id": "8dda82f1-3209-43af-9b49-dd14083dec8c",
   "metadata": {},
   "outputs": [],
   "source": [
    "# To save the best model and load the model using pickle library"
   ]
  },
  {
   "cell_type": "code",
   "execution_count": 98,
   "id": "cc5dd3d7-8511-406b-9e0a-c68464ca9c8e",
   "metadata": {},
   "outputs": [],
   "source": [
    "import pickle"
   ]
  },
  {
   "cell_type": "code",
   "execution_count": 99,
   "id": "3af08f54-bf7b-4f11-8867-a5addb8cf192",
   "metadata": {},
   "outputs": [],
   "source": [
    "pickle.dump(Best_Model, open('best_model.pkl', 'wb'))   # wb = write binary"
   ]
  },
  {
   "cell_type": "code",
   "execution_count": 100,
   "id": "b85d20f4-814f-4a0b-81d0-56e8965f69a5",
   "metadata": {},
   "outputs": [],
   "source": [
    "loaded_model = pickle.load(open('Best_Model.pkl', 'rb'))  # rb = read binary"
   ]
  },
  {
   "cell_type": "code",
   "execution_count": 101,
   "id": "40d502eb-4f3d-4b9d-a2c5-e146ed5ae5ec",
   "metadata": {},
   "outputs": [],
   "source": [
    "# Taking original dataset and randomly generating 20 data points and applying on the best model"
   ]
  },
  {
   "cell_type": "code",
   "execution_count": 123,
   "id": "d5ef4832-e8d0-4613-8da7-663207b9e9ea",
   "metadata": {},
   "outputs": [
    {
     "name": "stdout",
     "output_type": "stream",
     "text": [
      "Original Dataset:\n",
      "                                     name  year  selling_price  km_driven  \\\n",
      "0                           Maruti 800 AC  2007          60000      70000   \n",
      "1                Maruti Wagon R LXI Minor  2007         135000      50000   \n",
      "2                    Hyundai Verna 1.6 SX  2012         600000     100000   \n",
      "3                  Datsun RediGO T Option  2017         250000      46000   \n",
      "4                   Honda Amaze VX i-DTEC  2014         450000     141000   \n",
      "...                                   ...   ...            ...        ...   \n",
      "4335  Hyundai i20 Magna 1.4 CRDi (Diesel)  2014         409999      80000   \n",
      "4336           Hyundai i20 Magna 1.4 CRDi  2014         409999      80000   \n",
      "4337                  Maruti 800 AC BSIII  2009         110000      83000   \n",
      "4338     Hyundai Creta 1.6 CRDi SX Option  2016         865000      90000   \n",
      "4339                     Renault KWID RXT  2016         225000      40000   \n",
      "\n",
      "        fuel seller_type transmission         owner Model_Name  \n",
      "0     Petrol  Individual       Manual   First Owner     Maruti  \n",
      "1     Petrol  Individual       Manual   First Owner     Maruti  \n",
      "2     Diesel  Individual       Manual   First Owner    Hyundai  \n",
      "3     Petrol  Individual       Manual   First Owner     Datsun  \n",
      "4     Diesel  Individual       Manual  Second Owner      Honda  \n",
      "...      ...         ...          ...           ...        ...  \n",
      "4335  Diesel  Individual       Manual  Second Owner    Hyundai  \n",
      "4336  Diesel  Individual       Manual  Second Owner    Hyundai  \n",
      "4337  Petrol  Individual       Manual  Second Owner     Maruti  \n",
      "4338  Diesel  Individual       Manual   First Owner    Hyundai  \n",
      "4339  Petrol  Individual       Manual   First Owner    Renault  \n",
      "\n",
      "[4340 rows x 9 columns]\n",
      "\n",
      "Random Dataset (20 data points):\n",
      "                                     name  year  selling_price  km_driven  \\\n",
      "2395                Maruti Swift ZXI Plus  2018         600000      30000   \n",
      "2223                   Honda City 1.3 EXI  2002         145000     100000   \n",
      "3758              Tata Sumo Gold EX BSIII  2015         399000      55250   \n",
      "1863              Maruti Baleno Alpha 1.2  2018         690000      40000   \n",
      "795                    Mahindra Quanto C8  2013         300000      25000   \n",
      "217   Hyundai i20 Magna 1.4 CRDi (Diesel)  2012         385000      58000   \n",
      "1120       Hyundai i10 Magna 1.2 iTech SE  2009         150000      60000   \n",
      "1687                 Ford Figo Diesel EXI  2011         140000      90000   \n",
      "1534              Maruti Baleno Alpha 1.3  2016         575000      50000   \n",
      "3430             Maruti Wagon R VXI BS IV  2015         250000      25000   \n",
      "1422              Maruti Baleno Alpha 1.3  2016         675000      60000   \n",
      "256           Hyundai Santro Xing GL Plus  2013         290000      49000   \n",
      "3689               Mahindra XUV500 W6 2WD  2013         850000      85710   \n",
      "3738                      Maruti Alto LXi  2007          95000      85000   \n",
      "1306                  Maruti Alto 800 VXI  2014         160000      90000   \n",
      "3113                      Tata Indigo TDI  2012         200000      35000   \n",
      "3198                Honda Amaze S i-Vtech  2015         450000      43192   \n",
      "1508                      Tata Indigo GLX  2006         100000     110000   \n",
      "952             Hyundai i10 Sportz 1.2 AT  2013         330000      38000   \n",
      "3159               Mahindra XUV500 W8 2WD  2012         711000      53600   \n",
      "\n",
      "        fuel seller_type transmission         owner Model_Name  \n",
      "2395  Petrol  Individual       Manual   First Owner     Maruti  \n",
      "2223  Petrol  Individual       Manual   First Owner      Honda  \n",
      "3758  Diesel  Individual       Manual   First Owner       Tata  \n",
      "1863  Petrol  Individual       Manual   First Owner     Maruti  \n",
      "795   Diesel  Individual       Manual  Second Owner   Mahindra  \n",
      "217   Diesel      Dealer       Manual   First Owner    Hyundai  \n",
      "1120  Petrol  Individual       Manual   Third Owner    Hyundai  \n",
      "1687  Diesel  Individual       Manual   Third Owner       Ford  \n",
      "1534  Diesel  Individual       Manual   First Owner     Maruti  \n",
      "3430  Petrol  Individual       Manual   First Owner     Maruti  \n",
      "1422  Diesel  Individual       Manual   First Owner     Maruti  \n",
      "256   Petrol  Individual       Manual   First Owner    Hyundai  \n",
      "3689  Diesel      Dealer       Manual   First Owner   Mahindra  \n",
      "3738  Petrol  Individual       Manual  Second Owner     Maruti  \n",
      "1306  Petrol  Individual       Manual   First Owner     Maruti  \n",
      "3113  Diesel  Individual       Manual   First Owner       Tata  \n",
      "3198  Petrol      Dealer       Manual   First Owner      Honda  \n",
      "1508  Petrol  Individual       Manual  Second Owner       Tata  \n",
      "952   Petrol      Dealer    Automatic   First Owner    Hyundai  \n",
      "3159  Diesel      Dealer       Manual   First Owner   Mahindra  \n"
     ]
    }
   ],
   "source": [
    "import random\n",
    "\n",
    "# Function to generate a random dataset with a specific number of data points\n",
    "def generate_random_dataset(df1, num_points=20):\n",
    "    if num_points > len(df1):\n",
    "        raise ValueError(\"Number of points requested is greater than the size of the original dataset.\")\n",
    "    \n",
    "    random_indices = random.sample(range(len(df1)), num_points)\n",
    "    random_data = df1.iloc[random_indices]\n",
    "    return random_data\n",
    "\n",
    "# Generate a random dataset with 20 data points\n",
    "random_data = generate_random_dataset(df1, num_points=20)\n",
    "\n",
    "# Display the original and random datasets\n",
    "print(\"Original Dataset:\")\n",
    "print(df1)\n",
    "print(\"\\nRandom Dataset (20 data points):\")\n",
    "print(random_data)"
   ]
  },
  {
   "cell_type": "code",
   "execution_count": 124,
   "id": "7f0356d4-4fb7-40e1-86a4-1cec06b5f879",
   "metadata": {},
   "outputs": [],
   "source": [
    "# Saving the randomly generated dataset\n",
    "random_data.to_csv('Random_Car_dataset.csv',index=False)"
   ]
  },
  {
   "cell_type": "code",
   "execution_count": 125,
   "id": "355b1380-5d41-4588-b296-5b0a16a33cb7",
   "metadata": {},
   "outputs": [],
   "source": [
    "from sklearn.preprocessing import LabelEncoder\n",
    "lb=LabelEncoder()"
   ]
  },
  {
   "cell_type": "code",
   "execution_count": 126,
   "id": "9f71af56-c2e7-4a42-afb7-fb00b7960b5d",
   "metadata": {},
   "outputs": [],
   "source": [
    "for i in cols:\n",
    "    random_data[i]=lb.fit_transform(random_data[i])"
   ]
  },
  {
   "cell_type": "code",
   "execution_count": 127,
   "id": "e753e45f-eef6-48b0-af0f-91d81a367686",
   "metadata": {},
   "outputs": [],
   "source": [
    "# Columns to be dropped from features (X)\n",
    "col_drop=['name','selling_price']"
   ]
  },
  {
   "cell_type": "code",
   "execution_count": 128,
   "id": "e33f1d52-9a70-4cef-b88a-5d3a434b2fa5",
   "metadata": {},
   "outputs": [
    {
     "name": "stdout",
     "output_type": "stream",
     "text": [
      "(20, 7)\n",
      "(20,)\n",
      "<class 'pandas.core.frame.DataFrame'>\n",
      "<class 'pandas.core.series.Series'>\n"
     ]
    }
   ],
   "source": [
    "# Split the dataset into features (X) and the target variable (y)\n",
    "\n",
    "X20 = random_data.drop(col_drop,axis=1)\n",
    "y20 = random_data['selling_price']\n",
    "print(X20.shape)\n",
    "print(y20.shape)\n",
    "print(type(X20))\n",
    "print(type(y20))"
   ]
  },
  {
   "cell_type": "code",
   "execution_count": 129,
   "id": "32987d08-b103-4643-bd34-c7de25d3a209",
   "metadata": {},
   "outputs": [],
   "source": [
    "# Standardize the features using Standard Scaling from sklearn preprocessing library\n",
    "from sklearn.preprocessing import StandardScaler\n",
    "scaler = StandardScaler()\n",
    "X_scaled20 = scaler.fit_transform(X20)"
   ]
  },
  {
   "cell_type": "code",
   "execution_count": 131,
   "id": "3ca463f2-03e8-4972-bf5d-c26650a67ba0",
   "metadata": {},
   "outputs": [
    {
     "name": "stdout",
     "output_type": "stream",
     "text": [
      "0.6211806675013994\n"
     ]
    }
   ],
   "source": [
    "# Applying the random dataset on the RandomForestRegressor model and checking model score.\n",
    "test_model_score = loaded_model.score(X_scaled20,y20)\n",
    "print(test_model_score)"
   ]
  },
  {
   "cell_type": "code",
   "execution_count": null,
   "id": "7b252438-83e4-47e9-9e2c-d9373cf6954d",
   "metadata": {},
   "outputs": [],
   "source": []
  }
 ],
 "metadata": {
  "kernelspec": {
   "display_name": "Python 3",
   "language": "python",
   "name": "python3"
  },
  "language_info": {
   "codemirror_mode": {
    "name": "ipython",
    "version": 3
   },
   "file_extension": ".py",
   "mimetype": "text/x-python",
   "name": "python",
   "nbconvert_exporter": "python",
   "pygments_lexer": "ipython3",
   "version": "3.8.8"
  }
 },
 "nbformat": 4,
 "nbformat_minor": 5
}
